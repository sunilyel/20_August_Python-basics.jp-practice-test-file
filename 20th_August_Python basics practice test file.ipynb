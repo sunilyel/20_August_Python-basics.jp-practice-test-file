{
 "cells": [
  {
   "cell_type": "code",
   "execution_count": null,
   "id": "a3206a27-ef59-4511-ae4a-9788bd4ac229",
   "metadata": {},
   "outputs": [],
   "source": [
    "#1) reverse string\n",
    "user_str = input(\"Enter a string to reverse :\") #taking user inputs\n",
    "\n",
    "rev_str = user_str[::-1] # reversing string using slice method\n",
    "\n",
    "print(rev_str)"
   ]
  },
  {
   "cell_type": "code",
   "execution_count": null,
   "id": "1603ac22-7d0b-4bf9-aeb5-ca8e6445e736",
   "metadata": {},
   "outputs": [],
   "source": []
  },
  {
   "cell_type": "code",
   "execution_count": null,
   "id": "8c857d14-c5a9-4845-b266-08ef38faa554",
   "metadata": {},
   "outputs": [],
   "source": [
    "'''2)\n",
    "Checking if a string is palindrome or not '''\n",
    "palindrome_str = input(\"Enter a string to check palindrome or not :\")#taking user inputs\n",
    "\n",
    "new_str = palindrome_str.replace(\" \",\"\").lower() #removing spaces and converting string to lower case\n",
    "\n",
    "str_rev = new_str[::-1] #reversing the string using slice method\n",
    "\n",
    "if new_str == str_rev: #checking if entered string same as reversed string or not\n",
    "    print(\"Entered string is a palindrome string\")\n",
    "else:\n",
    "    print(\"Entered string is not a palindrome string\")"
   ]
  },
  {
   "cell_type": "code",
   "execution_count": null,
   "id": "7fafec97-77dd-43f8-8b77-d1d4e98e93c8",
   "metadata": {},
   "outputs": [],
   "source": []
  },
  {
   "cell_type": "code",
   "execution_count": null,
   "id": "f68af28e-57c1-426a-82ce-0dabd16a10ed",
   "metadata": {},
   "outputs": [],
   "source": [
    "#3) Converting a string into uppercase\n",
    "str_upper = input(\"Enter a string to convert :\") #taking user inputs\n",
    "\n",
    "'''converting string into uppercase\n",
    "and printing same output'''\n",
    "\n",
    "print(str_upper.upper())"
   ]
  },
  {
   "cell_type": "code",
   "execution_count": null,
   "id": "df70ed2f-3a10-416f-a90c-443b482fe8bd",
   "metadata": {},
   "outputs": [],
   "source": []
  },
  {
   "cell_type": "code",
   "execution_count": null,
   "id": "654f82a0-e7a2-481c-a58e-a39b52d42dd8",
   "metadata": {},
   "outputs": [],
   "source": [
    "#4) Converting a string into lowercase\n",
    "str_lower = input(\"Enter a string to convert :\") #taking user inputs\n",
    "\n",
    "'''converting string into lowercase\n",
    "and printing same output'''\n",
    "\n",
    "print(str_lower.lower())"
   ]
  },
  {
   "cell_type": "code",
   "execution_count": null,
   "id": "f1fcf38d-7b46-49f8-a7fd-b98b99124a56",
   "metadata": {},
   "outputs": [],
   "source": []
  },
  {
   "cell_type": "code",
   "execution_count": null,
   "id": "93608741-7b66-405f-98e3-7a533260ec18",
   "metadata": {},
   "outputs": [],
   "source": [
    "#5 counting number of vowels present in entered string\n",
    "user_str = input(\"Enter a string: \") #taking user inputs\n",
    "\n",
    "vowel_count = 0 #initial count value is set 0\n",
    "\n",
    "for vowel_userSTR in user_str: #using for loop meethod to repeat same step until string ends\n",
    "    if vowel_userSTR in \"aeiou\": # checking number of vowels\n",
    "        vowel_count += 1 # vowel count will increase if vowel found\n",
    "        \n",
    "print(vowel_count) #printing final expected output"
   ]
  },
  {
   "cell_type": "code",
   "execution_count": null,
   "id": "e0956947-c533-4c2d-abb9-2ba39ff62640",
   "metadata": {},
   "outputs": [],
   "source": []
  },
  {
   "cell_type": "code",
   "execution_count": null,
   "id": "ec1e858b-e6ca-4daf-845b-fef415d49c27",
   "metadata": {},
   "outputs": [],
   "source": [
    "#6) counting number of consonants\n",
    "user_str = input(\"Enter a string:\") #taking user inputs\n",
    "\n",
    "count = 0 #initial count is zer0\n",
    "\n",
    "for i in user_str: #using for loop to repeat same process till end of string\n",
    "    if i in \"bghtz\": #checking required alphabets\n",
    "        count += 1 #increasing count if required alphabets found\n",
    "        \n",
    "print(count) #printing required output"
   ]
  },
  {
   "cell_type": "code",
   "execution_count": null,
   "id": "d14c2904-eb58-4b9c-9ccd-e37495b3f135",
   "metadata": {},
   "outputs": [],
   "source": []
  },
  {
   "cell_type": "code",
   "execution_count": null,
   "id": "d042f28d-2046-4ab0-92de-574209b699f9",
   "metadata": {},
   "outputs": [],
   "source": [
    "#7) removing all spaces from a string\n",
    "rmv_space = input(\"Enter a string:\") #taking user inputs\n",
    "\n",
    "'''removing spaces using replace method and\n",
    "printing output in the same line of code'''\n",
    "print(rmv_space.replace(\" \",\"\"))"
   ]
  },
  {
   "cell_type": "code",
   "execution_count": null,
   "id": "de785fdb-76b8-4e8e-b2fe-6b89996d0a9c",
   "metadata": {},
   "outputs": [],
   "source": []
  },
  {
   "cell_type": "code",
   "execution_count": null,
   "id": "f15a3ee9-9e09-48a6-850e-86cc6fcdeacf",
   "metadata": {},
   "outputs": [],
   "source": [
    "#8) length of string without using len()\n",
    "user_str = input(\"Enter a string:\")\n",
    "\n",
    "count = 0\n",
    "\n",
    "for i in user_str: #for loop will loop till string ends and count will add 1 everytime till string ends\n",
    "    count += 1\n",
    "    \n",
    "print(count) # printing final expected output"
   ]
  },
  {
   "cell_type": "code",
   "execution_count": null,
   "id": "affdfc85-dc7d-44da-a01b-1657347b67b6",
   "metadata": {},
   "outputs": [],
   "source": []
  },
  {
   "cell_type": "code",
   "execution_count": null,
   "id": "b60d064b-c21e-45ba-aaaf-cb2e158e3874",
   "metadata": {},
   "outputs": [],
   "source": [
    "#9) checking specific word\n",
    "user_input = input(\"Enter a string:\")#taking user inputs\n",
    "\n",
    "word = input(\"Enter a word to search in string:\") #taking user search inputs\n",
    "\n",
    "if word in user_input: #checking if required output is present or not\n",
    "    print(\"Entered string contain\", word)\n",
    "else:\n",
    "    print(\"Entered string does not contain\", word)"
   ]
  },
  {
   "cell_type": "code",
   "execution_count": null,
   "id": "0e344954-d3bf-4541-9465-09e7b3d001e1",
   "metadata": {},
   "outputs": [],
   "source": []
  },
  {
   "cell_type": "code",
   "execution_count": null,
   "id": "c793574c-f6f5-40a6-9c03-1611f93011c6",
   "metadata": {},
   "outputs": [],
   "source": [
    "#10) checking specific word\n",
    "user_input = input(\"Enter a string:\")#taking user inputs\n",
    "\n",
    "word = input(\"Enter a word to search in string:\") #taking user search inputs\n",
    "\n",
    "word1 = input(\"Enter a word to replace with searched word:\")#taking user inputs for replace of word\n",
    "\n",
    "if word in user_input: #checking if required output is present or not\n",
    "    word1 = user_input.replace(word , word1) #replacing user word with user required word\n",
    "    print(\"Entered string contain\", word, \"and new string is\", word1)\n",
    "else:\n",
    "    print(\"Entered string does not contain\", word)"
   ]
  },
  {
   "cell_type": "code",
   "execution_count": null,
   "id": "50bc0230-f402-449b-80e9-91e7a0e2d78c",
   "metadata": {},
   "outputs": [],
   "source": []
  },
  {
   "cell_type": "code",
   "execution_count": null,
   "id": "0e69c5a5-a2bb-46cc-86a4-fe9e0d3b4325",
   "metadata": {},
   "outputs": [],
   "source": [
    "#11) count the occurences of a word in string\n",
    "user_str = input(\"Enter a string:\") #taking user inputs\n",
    "\n",
    "search_str = input(\"Enter a string to search and count:\") #taking user inputs to search a word\n",
    "\n",
    "word_count = 0\n",
    "\n",
    "words = user_str.split() #spliting words \n",
    "\n",
    "for word in words: #using for loop to saerch a word in a given string till string ends\n",
    "    if word == search_str:\n",
    "        word_count += 1\n",
    "        \n",
    "print(word_count)"
   ]
  },
  {
   "cell_type": "code",
   "execution_count": null,
   "id": "11c7a4aa-d755-49d5-8e99-4213310a6c81",
   "metadata": {},
   "outputs": [],
   "source": []
  },
  {
   "cell_type": "code",
   "execution_count": null,
   "id": "c8d3e863-1ef7-425a-8ae0-b9d11b8bd7b7",
   "metadata": {},
   "outputs": [],
   "source": [
    "#12) Find the first occurrence of a word in a string.\n",
    "user_str = input(\"Enter a string:\")#taking user inputs\n",
    "\n",
    "search_str = input(\"Enter a string to search:\") #taking user inputs to search\n",
    "\n",
    "word = user_str.find(search_str) #checking if required word present or not\n",
    "if word == -1:\n",
    "    print(\"Result not found\") #if not found result will be none\n",
    "else:\n",
    "    print(word) # if found result will be displayed with index number"
   ]
  },
  {
   "cell_type": "code",
   "execution_count": null,
   "id": "116e79a5-edb6-44d1-ac4c-d051d78f4bdd",
   "metadata": {},
   "outputs": [],
   "source": []
  },
  {
   "cell_type": "code",
   "execution_count": null,
   "id": "6ce8aee0-1332-4f71-a4a3-fbc54cd49fae",
   "metadata": {},
   "outputs": [],
   "source": [
    "#13) Find the last occurrence of a word in a string.\n",
    "user_str = input(\"Enter a string:\")#taking user inputs\n",
    "\n",
    "search_str = input(\"Enter a string to search:\") #taking user inputs to search\n",
    "\n",
    "word = user_str.rfind(search_str) #checking if required word present or not in reverse way\n",
    "if word == -1:\n",
    "    print(\"Result not found\") #if not found result will be none\n",
    "else:\n",
    "    print(word) # if found result will be displayed with index number"
   ]
  },
  {
   "cell_type": "code",
   "execution_count": null,
   "id": "67eef5b3-4a38-4c95-9aaf-1872d1c5115f",
   "metadata": {},
   "outputs": [],
   "source": []
  },
  {
   "cell_type": "code",
   "execution_count": null,
   "id": "7e3c5011-519f-4fc3-bd88-2cb17b1c5322",
   "metadata": {},
   "outputs": [],
   "source": [
    "#14) Split a string into a list of words\n",
    "user_str = input(\"Enter a string:\")\n",
    "\n",
    "split_str = user_str.split() #spliting a string using split function\n",
    "\n",
    "print(split_str)"
   ]
  },
  {
   "cell_type": "code",
   "execution_count": null,
   "id": "65e7d85c-31b6-4a9d-8d57-0d459ce07a71",
   "metadata": {},
   "outputs": [],
   "source": []
  },
  {
   "cell_type": "code",
   "execution_count": null,
   "id": "33e21d96-d28a-49e8-959b-c08adf2d52f9",
   "metadata": {},
   "outputs": [],
   "source": [
    "#15) Join a list of words into a string\n",
    "user_str = [\"My\", \"name\", \"is\", \"Sunil\", \"Yeligeti\"]\n",
    "\n",
    "join_str = ' '.join(user_str) #joining a list of words using join() function\n",
    "\n",
    "print(join_str)"
   ]
  },
  {
   "cell_type": "code",
   "execution_count": null,
   "id": "ee0577d4-b9f0-4fa4-87bc-89460c4cc1b6",
   "metadata": {},
   "outputs": [],
   "source": []
  },
  {
   "cell_type": "code",
   "execution_count": null,
   "id": "c404858f-043f-4cc1-90b4-dde5501a3f00",
   "metadata": {},
   "outputs": [],
   "source": [
    "''' 16) Convert a string where words are separated by spaces to one where words\n",
    "are separated by underscores'''\n",
    "\n",
    "user_input = input(\"Enter a string:\")\n",
    "\n",
    "req_str = user_input.replace(\" \", \"_\") #replacing spaces by underscore using replace() function\n",
    "\n",
    "print(req_str)"
   ]
  },
  {
   "cell_type": "code",
   "execution_count": null,
   "id": "e426806d-29ac-49f0-a062-beb582bb1eee",
   "metadata": {},
   "outputs": [],
   "source": []
  },
  {
   "cell_type": "code",
   "execution_count": null,
   "id": "74d2d7bd-62bd-483b-9dc2-7e02212e514e",
   "metadata": {},
   "outputs": [],
   "source": [
    "#17) Check if a string starts with a specific word or phrase\n",
    "\n",
    "user_input = input(\"Enter a string:\")\n",
    "\n",
    "new_str = input(\"Enter a string to check if given string starts with this string or not:\")\n",
    "\n",
    "req_str = user_input.startswith(new_str) #checking if given string start with required string or not\n",
    "\n",
    "if req_str == True:\n",
    "    print(\"The text starts with\" , new_str)\n",
    "\n",
    "else:\n",
    "    print(\"The text does not starts with\" , new_str)"
   ]
  },
  {
   "cell_type": "code",
   "execution_count": null,
   "id": "ad0441c9-c284-4879-b887-aec54374c0ca",
   "metadata": {},
   "outputs": [],
   "source": []
  },
  {
   "cell_type": "code",
   "execution_count": null,
   "id": "5f6f6c8b-df97-4568-938b-35ab4be32cef",
   "metadata": {},
   "outputs": [],
   "source": [
    "#18) Check if a string ends with a specific word or phrase\n",
    "\n",
    "user_input = input(\"Enter a string:\")\n",
    "\n",
    "new_str = input(\"Enter a string to check if given string starts with this string or not:\")\n",
    "\n",
    "req_str = user_input.endswith(new_str) #checking if given string ends with required string or not\n",
    "\n",
    "if req_str == True:\n",
    "    print(\"The text starts with\" , new_str)\n",
    "\n",
    "else:\n",
    "    print(\"The text does not starts with\" , new_str)"
   ]
  },
  {
   "cell_type": "code",
   "execution_count": null,
   "id": "89d5dd7d-9018-432a-8e1e-a9921f1588cf",
   "metadata": {},
   "outputs": [],
   "source": []
  },
  {
   "cell_type": "code",
   "execution_count": null,
   "id": "f897bb47-44ef-40a6-875c-1faab463c7af",
   "metadata": {},
   "outputs": [],
   "source": [
    "#19) Convert a string to title case\n",
    "\n",
    "user_str = input(\"Enter a string to convert into title case:\")\n",
    "\n",
    "print(user_str.title()) #using title function"
   ]
  },
  {
   "cell_type": "code",
   "execution_count": null,
   "id": "477d56db-9c2e-45b8-9210-4c7dee08ddd4",
   "metadata": {},
   "outputs": [],
   "source": []
  },
  {
   "cell_type": "code",
   "execution_count": null,
   "id": "9debf647-2d05-4775-a7bc-970850b4991c",
   "metadata": {},
   "outputs": [],
   "source": [
    "#20) Find the longest word in a string.\n",
    "\n",
    "user_str = input(\"Enter a string:\")\n",
    "\n",
    "user_str_split = user_str.split() #splitting words using split() function\n",
    "\n",
    "long_str = \"\" \n",
    "\n",
    "word_len = 0\n",
    "\n",
    "for word in user_str_split:\n",
    "    if len(word) > word_len:\n",
    "        word_len = len(word)\n",
    "        long_str = word\n",
    "        \n",
    "print (long_str)"
   ]
  },
  {
   "cell_type": "code",
   "execution_count": null,
   "id": "9bd9ec9f-3585-47ce-90f6-68bf34cea240",
   "metadata": {},
   "outputs": [],
   "source": []
  },
  {
   "cell_type": "code",
   "execution_count": null,
   "id": "32a5f89c-f556-472b-93e5-e422be2a208f",
   "metadata": {},
   "outputs": [],
   "source": [
    "#21) Find the shortest word in a string\n",
    "\n",
    "user_str = input(\"Enter a string:\")\n",
    "\n",
    "user_str_split = user_str.split()\n",
    "\n",
    "long_str = None\n",
    "\n",
    "word_len = float(\"inf\") #assigning a largest value\n",
    "\n",
    "for word in user_str_split:\n",
    "    if len(word) < word_len:\n",
    "        word_len = len(word)\n",
    "        long_str = word\n",
    "\n",
    "print (long_str)"
   ]
  },
  {
   "cell_type": "code",
   "execution_count": null,
   "id": "2ae9f39d-8f2d-4ce2-9831-d155de0398e4",
   "metadata": {},
   "outputs": [],
   "source": []
  },
  {
   "cell_type": "code",
   "execution_count": null,
   "id": "eabb220e-f6cd-483b-9963-19240141bd33",
   "metadata": {},
   "outputs": [],
   "source": [
    "#22) Reverse the order of words in a string\n",
    "user_str = input(\"Enter a string:\") #taking user inputs\n",
    "\n",
    "split_str = user_str.split(' ') #splitting user inputs using split()\n",
    "\n",
    "rev_str = ' '.join(reversed(split_str)) #joining splitted str using join() and reversing a splitted str\n",
    "\n",
    "print(rev_str)"
   ]
  },
  {
   "cell_type": "code",
   "execution_count": null,
   "id": "ab3aa717-5012-4030-ab92-17d2a5061230",
   "metadata": {},
   "outputs": [],
   "source": []
  },
  {
   "cell_type": "code",
   "execution_count": null,
   "id": "eb65362c-b1ab-40ae-ac76-9f70ec09cd80",
   "metadata": {},
   "outputs": [],
   "source": [
    "#23) Check if a string is alphanumeric.\n",
    "\n",
    "user_str = input(\"Enter a string:\")\n",
    "\n",
    "new_str = user_str.isalnum()#checking the given str is alphanumeric or not using isalnum()\n",
    "\n",
    "if new_str: #if a new_str is true then it will return below statement else it will return next statement\n",
    "    print(\"Enter string is an alphanumeric\") \n",
    "else:\n",
    "    print(\"Enter string is not an alphanumeric\")"
   ]
  },
  {
   "cell_type": "code",
   "execution_count": null,
   "id": "dcd4fc94-f86a-4028-bec4-9897d2bc6d73",
   "metadata": {},
   "outputs": [],
   "source": []
  },
  {
   "cell_type": "code",
   "execution_count": null,
   "id": "dea3f7b0-be7c-4533-89f4-3826967b9ea6",
   "metadata": {},
   "outputs": [],
   "source": [
    "#24) Extract all digits from a string\n",
    "\n",
    "user_str = input(\"Enter a string:\")\n",
    "\n",
    "count = \"\" #initinal count is null and will be string not a int so we are not assigning zero\n",
    "\n",
    "for i in user_str: #using for loop to iterate entire string\n",
    "    if i.isdigit(): #checking if user data contains any numbers\n",
    "        count += i # count will strore if number found and repeat till string ends\n",
    "print(count)"
   ]
  },
  {
   "cell_type": "code",
   "execution_count": null,
   "id": "a20d0622-e71e-47c5-a3f9-6a1def05abc7",
   "metadata": {},
   "outputs": [],
   "source": []
  },
  {
   "cell_type": "code",
   "execution_count": null,
   "id": "621651b5-9435-4af3-a9a0-bb54c50ea6c1",
   "metadata": {},
   "outputs": [],
   "source": [
    "#25) Extract all alphabets from a string\n",
    "\n",
    "user_str = input(\"Enter a string:\")\n",
    "\n",
    "count = \"\" #initial count is null and will be string not a int so we are not assigning zero\n",
    "\n",
    "for i in user_str: #using for loop to iterate entire string\n",
    "    if i.isalpha(): #checking if user data contains any alphabets\n",
    "        count += i # count will strore if alphabet found and repeat till string ends\n",
    "print(count)"
   ]
  },
  {
   "cell_type": "code",
   "execution_count": null,
   "id": "aa65e04d-9c5a-4405-85b7-a15311c1be2f",
   "metadata": {},
   "outputs": [],
   "source": []
  },
  {
   "cell_type": "code",
   "execution_count": null,
   "id": "eee575ad-0c64-4c2d-989d-07b6ced73886",
   "metadata": {},
   "outputs": [],
   "source": [
    "#26) Count the number of uppercase letters in a string\n",
    "\n",
    "user_str = input(\"Enter a string:\")\n",
    "\n",
    "count = 0 #initial count is 0\n",
    "\n",
    "for i in user_str: #using for loop to iterate entire string\n",
    "    if i.isupper(): #checking if user data contains any uppercase letters\n",
    "        count += 1 #count will increase by 1 if uppercase word found\n",
    "print(count)"
   ]
  },
  {
   "cell_type": "code",
   "execution_count": null,
   "id": "44609d7e-729e-4ba8-8bf2-f1a9a7a28c9d",
   "metadata": {},
   "outputs": [],
   "source": []
  },
  {
   "cell_type": "code",
   "execution_count": null,
   "id": "786aeb2b-646c-429d-9648-b5d785a3a1ba",
   "metadata": {},
   "outputs": [],
   "source": [
    "#27) Count the number of lowercase letters in a string\n",
    "\n",
    "user_str = input(\"Enter a string:\")\n",
    "\n",
    "count = 0 #initial count is 0\n",
    "\n",
    "for i in user_str: #using for loop to iterate entire string\n",
    "    if i.islower(): #checking if user data contains any lowercase letters\n",
    "        count += 1 #count will increase by 1 if lowercase word found\n",
    "print(count)"
   ]
  },
  {
   "cell_type": "code",
   "execution_count": null,
   "id": "e71634f2-2d6b-4371-80fc-ba73f9d811fc",
   "metadata": {},
   "outputs": [],
   "source": []
  },
  {
   "cell_type": "code",
   "execution_count": null,
   "id": "d0ab3c2b-dcdd-4b51-a928-61770d62d5cb",
   "metadata": {},
   "outputs": [],
   "source": [
    "#28) Swap the case of each character in a string\n",
    "\n",
    "user_str = input(\"Enter a string:\")\n",
    "\n",
    "swap_str = user_str.swapcase() #swapping each word case by using swapcase()\n",
    "\n",
    "print(swap_str)"
   ]
  },
  {
   "cell_type": "code",
   "execution_count": null,
   "id": "ba1fa28f-18c3-4c99-9235-b7adf04504da",
   "metadata": {},
   "outputs": [],
   "source": []
  },
  {
   "cell_type": "code",
   "execution_count": null,
   "id": "62206444-9709-4c57-8c97-0a2320e45628",
   "metadata": {},
   "outputs": [],
   "source": [
    "#29) Remove a specific word from a string\n",
    "\n",
    "user_str = input(\"Enter a string:\") #taking user values\n",
    "\n",
    "req_str = input(\"Enter a word to remove from string:\") # taking user inputs for word to remove\n",
    "\n",
    "new_str = user_str.split() #splitting entered string into pieces using split()\n",
    "\n",
    "count = \"\" #declaring count as nil string\n",
    "\n",
    "for i in new_str: #using for loop to iterate till string ends\n",
    "    if req_str == i: #if user entered remove word is matching with user string then it will be true and execute below\n",
    "        new_str.remove(i) #it will remove particular word if found\n",
    "        count = ' '.join(new_str) #joining original string pieces into string using join() without user required word\n",
    "    else:\n",
    "        count = user_str\n",
    "print(count)"
   ]
  },
  {
   "cell_type": "code",
   "execution_count": null,
   "id": "8bf0d56b-59cf-46cf-9384-8d66896f73c5",
   "metadata": {},
   "outputs": [],
   "source": []
  },
  {
   "cell_type": "code",
   "execution_count": null,
   "id": "e98ea7dd-363e-4bcd-938a-884f9078f9a9",
   "metadata": {},
   "outputs": [],
   "source": [
    "#30) Check if a string is a valid email address\n",
    "\n",
    "import re  # Import the regular expression module\n",
    "\n",
    "user_str = input(\"Enter an email address:\")\n",
    "\n",
    "pattern = r'^[\\w\\.-]+@[\\w\\.-]+\\.\\w+$'  # Regular expression pattern for a basic email validation\n",
    "\n",
    "if re.match(pattern, user_str):\n",
    "    print(\"Entered email address is valid\")\n",
    "else:\n",
    "    print(\"Entered email address is not valid\")"
   ]
  },
  {
   "cell_type": "code",
   "execution_count": null,
   "id": "c325187b-eb63-466c-8950-863e96e2cf37",
   "metadata": {},
   "outputs": [],
   "source": []
  },
  {
   "cell_type": "code",
   "execution_count": null,
   "id": "52e8fe73-3ef1-4bdc-b116-0c281fcb94ee",
   "metadata": {},
   "outputs": [],
   "source": [
    "#31) Extract the username from an email address string\n",
    "\n",
    "user_str = input(\"Enter an email address:\")\n",
    "\n",
    "new_str = user_str.split('@')[0] # Splitting the email address at @ and take the first index word\n",
    "\n",
    "print(new_str)"
   ]
  },
  {
   "cell_type": "code",
   "execution_count": null,
   "id": "78b99cc0-411f-41c2-aa1a-3f61aecb7610",
   "metadata": {},
   "outputs": [],
   "source": []
  },
  {
   "cell_type": "code",
   "execution_count": null,
   "id": "737a5383-5efb-49a9-a788-0902eccec2c9",
   "metadata": {},
   "outputs": [],
   "source": [
    "#32) Extract the domain name from an email address string\n",
    "\n",
    "user_str = input(\"Enter an email address:\")\n",
    "\n",
    "new_str = user_str.split('@')[1] # Splitting the email address at @ and take the second index word\n",
    "\n",
    "print(new_str)"
   ]
  },
  {
   "cell_type": "code",
   "execution_count": null,
   "id": "c17f024f-1a30-4b21-a586-57f6da591d7f",
   "metadata": {},
   "outputs": [],
   "source": []
  },
  {
   "cell_type": "code",
   "execution_count": null,
   "id": "0267a733-8f8c-4987-9e55-fa5a1b09c0e9",
   "metadata": {},
   "outputs": [],
   "source": [
    "#33) Replace multiple spaces in a string with a single space\n",
    "\n",
    "user_str = input(\"Enter a string:\")\n",
    "\n",
    "new_str = user_str.split() #first we split the spring, so while splitting only words will get spliced\n",
    "\n",
    "final = ' '.join(new_str) #join the string using join()\n",
    "\n",
    "print(final)"
   ]
  },
  {
   "cell_type": "code",
   "execution_count": null,
   "id": "a2dd691b-204e-433d-b304-8d867a049af6",
   "metadata": {},
   "outputs": [],
   "source": []
  },
  {
   "cell_type": "code",
   "execution_count": null,
   "id": "89607220-54be-41f6-84e3-f24efbe44efb",
   "metadata": {},
   "outputs": [],
   "source": [
    "#34) Check if a string is a valid URL\n",
    "\n",
    "import re # Import the regular expression module\n",
    "\n",
    "user_str = input(\"Enter a valid URL:\")\n",
    "\n",
    "# findall() function used with the conditions which is valid for url in the strings\n",
    "regex= 'http[s]?://(?:[a-zA-Z]|[0-9]|[$-_@.&+]|[!*\\(\\), ]|(?:%[0-9a-fA-F][0-9a-fA-F]))+'\n",
    "checkURL= re.findall(regex,user_str)\n",
    "\n",
    "if checkURL:\n",
    "    print(''.join(checkURL)) #using join() to print output as string\n",
    "else:\n",
    "    print(\"URL is not valid\")"
   ]
  },
  {
   "cell_type": "code",
   "execution_count": null,
   "id": "e9f2d909-d579-4931-b6e1-5a6b3c5f2c26",
   "metadata": {},
   "outputs": [],
   "source": []
  },
  {
   "cell_type": "code",
   "execution_count": null,
   "id": "fe6c004b-f2ca-43a8-844f-3fb619944ce0",
   "metadata": {},
   "outputs": [],
   "source": [
    "#35 Extract the protocol (http or https) from a URL string\n",
    "\n",
    "user_str = input(\"Enter a valid URL:\")\n",
    "\n",
    "new_str = user_str.split('://')[0] # Splitting the URL address at :// and take the first index word\n",
    "\n",
    "print(new_str)"
   ]
  },
  {
   "cell_type": "code",
   "execution_count": null,
   "id": "421a2f8a-9460-49ac-984d-0c9d2e129661",
   "metadata": {},
   "outputs": [],
   "source": []
  },
  {
   "cell_type": "code",
   "execution_count": null,
   "id": "8d2593a1-06ae-4977-a9ee-5e315cae4c42",
   "metadata": {},
   "outputs": [],
   "source": [
    "#36) Find the frequency of each character in a string\n",
    "\n",
    "user_str = input(\"Enter a string:\")\n",
    "\n",
    "count = {}  # Create an empty dictionary to store character frequencies\n",
    "\n",
    "for i in user_str:\n",
    "    if i in count:\n",
    "        count[i] += 1  # Increase the count if the character is already in the dictionary\n",
    "    else:\n",
    "        count[i] = 1   # Initialize the count to 1 if the character is not in the dictionary\n",
    "    \n",
    "for key, value in count.items(): #separating each keys and values\n",
    "    print(f\"Character: '{key}', Frequency: {value}\")"
   ]
  },
  {
   "cell_type": "code",
   "execution_count": null,
   "id": "afe1e3ea-0b81-4568-8b87-740a3539ff87",
   "metadata": {},
   "outputs": [],
   "source": []
  },
  {
   "cell_type": "code",
   "execution_count": null,
   "id": "7de64ada-77c4-43bc-8f4b-27c273755be1",
   "metadata": {},
   "outputs": [],
   "source": [
    "#37) Remove all punctuation from a string\n",
    "\n",
    "user_str = input(\"Enter a string:\") # taking user inputs\n",
    "\n",
    "print(\"The original string is : \" + test_str) # printing original string\n",
    "\n",
    "punctuation_word = '''!()-[]{};:'\"\\,<>./?@#$%^&*_~''' # initializing punctuations string\n",
    " \n",
    "# Removing punctuations in string\n",
    "# Using loop + punctuation string\n",
    "for ele in user_str:\n",
    "    if ele in punctuation_word:\n",
    "        user_str = user_str.replace(ele, \"\")\n",
    "\n",
    "print(\"The string after punctuation filter : \" + test_str) #printing required result"
   ]
  },
  {
   "cell_type": "code",
   "execution_count": null,
   "id": "61fd13f5-82a2-49ac-b3e5-b9c352ee147f",
   "metadata": {},
   "outputs": [],
   "source": []
  },
  {
   "cell_type": "code",
   "execution_count": null,
   "id": "b48e4d2c-2b63-46b9-a965-896f3f8eb74d",
   "metadata": {},
   "outputs": [],
   "source": [
    "#38) Check if a string contains only digits\n",
    "\n",
    "user_str = input(\"Enter a string:\")\n",
    "\n",
    "result_str = user_str.isdigit() #check if user string is only numbers or not using isdigit()\n",
    "\n",
    "if result_str:\n",
    "    print(\"Enter string contains only digits\")\n",
    "else:\n",
    "    print(\"Enter string does contains alphanumeric\")"
   ]
  },
  {
   "cell_type": "code",
   "execution_count": null,
   "id": "0c416ecd-4c0b-4777-b6f4-46474223d490",
   "metadata": {},
   "outputs": [],
   "source": []
  },
  {
   "cell_type": "code",
   "execution_count": null,
   "id": "47926a28-fee2-4e28-9018-07d1ab628efa",
   "metadata": {},
   "outputs": [],
   "source": [
    "#39) Check if a string contains only alphabets\n",
    "\n",
    "user_str = input(\"Enter a string:\")\n",
    "\n",
    "result_str = user_str.isalpha() #check if user string is only alphabets or not using isalpha()\n",
    "\n",
    "if result_str:\n",
    "    print(\"Enter string contains only alphabets\")\n",
    "else:\n",
    "    print(\"Enter string does contains alphanumeric\")"
   ]
  },
  {
   "cell_type": "code",
   "execution_count": null,
   "id": "358d1f7f-ea9f-4632-a666-5065a6ec2f4e",
   "metadata": {},
   "outputs": [],
   "source": []
  },
  {
   "cell_type": "code",
   "execution_count": null,
   "id": "44afa8fb-4cb1-442c-9553-b72670dd19e0",
   "metadata": {},
   "outputs": [],
   "source": [
    "#40) Convert a string to a list of characters\n",
    "\n",
    "user_str = input(\"Enter a string:\")\n",
    "\n",
    "list_str = list(user_str) #\n",
    "\n",
    "print(list_str)"
   ]
  },
  {
   "cell_type": "code",
   "execution_count": null,
   "id": "09d8414f-d1cf-4931-a6a5-050d6fad2d85",
   "metadata": {},
   "outputs": [],
   "source": []
  },
  {
   "cell_type": "code",
   "execution_count": null,
   "id": "5ca0c80e-3e94-4145-aa60-1ae0c2856d3d",
   "metadata": {},
   "outputs": [],
   "source": [
    "#41) Check if two strings are anagrams\n",
    "\n",
    "#taking user inputs\n",
    "user_str1 = input(\"Enter string 1:\")\n",
    "\n",
    "user_str2 = input(\"Enter string 2:\")\n",
    "'''removing spaces using replace function\n",
    "making all cases to lower case using lower function\n",
    "sorting each alphabets using sorted function'''\n",
    "req_str1 = sorted(user_str1.replace(\" \",\"\").lower())\n",
    "req_str2 = sorted(user_str2.replace(\" \",\"\").lower())\n",
    "\n",
    "if req_str1 == req_str2:\n",
    "    print(user_str1, \"and\", user_str2, \"are anagrams\")\n",
    "else:\n",
    "    print(user_str1, \"and\", user_str2, \"are not anagrams\")"
   ]
  },
  {
   "cell_type": "code",
   "execution_count": null,
   "id": "2bfa78e4-9930-468f-b53c-2350e975c256",
   "metadata": {},
   "outputs": [],
   "source": []
  },
  {
   "cell_type": "code",
   "execution_count": null,
   "id": "5a90080d-10f8-44a2-8ccf-6b8a3c14bcde",
   "metadata": {},
   "outputs": [],
   "source": [
    "#42) Encode a string using a Caesar cipher\n",
    "\n",
    "user_str = input(\"Enter a string:\")\n",
    "\n",
    "shift_nbr = int(input(\"Enter a number to shift: \"))\n",
    "\n",
    "encryption = \"\"\n",
    "\n",
    "for i in user_str:\n",
    "    # check if character is an uppercase letter\n",
    "    if i.isupper():\n",
    "        # find the position in 0-25\n",
    "        i_unicode = ord(i)\n",
    "        i_index = ord(i) - ord(\"A\")\n",
    "        # perform the shift\n",
    "        new_index = (i_index + shift_nbr) % 26\n",
    "        # convert to new character\n",
    "        new_unicode = new_index + ord(\"A\")\n",
    "        new_character = chr(new_unicode)\n",
    "        # append to encrypted string\n",
    "        encryption = encryption + new_character\n",
    "    else:\n",
    "        # since character is not uppercase, leave it as it is\n",
    "        encryption += i\n",
    "        \n",
    "print(\"Plain text:\",user_str)\n",
    "print(\"Encrypted text:\",encryption)"
   ]
  },
  {
   "cell_type": "code",
   "execution_count": null,
   "id": "8b149dc7-a88e-4f07-85f7-b68ad20f0821",
   "metadata": {},
   "outputs": [],
   "source": []
  },
  {
   "cell_type": "code",
   "execution_count": null,
   "id": "33e677d1-4e73-46be-8b63-2367215aa29e",
   "metadata": {},
   "outputs": [],
   "source": [
    "#43) Decode a Caesar cipher encoded string\n",
    "\n",
    "ciper_str = input(\"Enter a string:\")\n",
    "\n",
    "shift_nbr = int(input(\"Enter a number to shift: \"))\n",
    "\n",
    "decryption = \"\"\n",
    "\n",
    "for i in ciper_str:\n",
    "    # check if character is an uppercase letter\n",
    "    if i.isupper():\n",
    "        # find the position in 0-25\n",
    "        i_unicode = ord(i)\n",
    "        i_index = ord(i) + ord(\"A\")\n",
    "        # perform the shift\n",
    "        new_index = (i_index - shift_nbr) % 26\n",
    "        # convert to new character\n",
    "        new_unicode = new_index + ord(\"A\")\n",
    "        new_character = chr(new_unicode)\n",
    "        # append to decrypted string\n",
    "        decryption = decryption + new_character\n",
    "    else:\n",
    "        # since character is not uppercase, leave it as it is\n",
    "        decryption += i\n",
    "        \n",
    "print(\"Ciper text:\",ciper_str)\n",
    "print(\"Decrypted text:\",decryption)"
   ]
  },
  {
   "cell_type": "code",
   "execution_count": null,
   "id": "aa7c8a81-1715-4071-a686-639867d298a2",
   "metadata": {},
   "outputs": [],
   "source": []
  },
  {
   "cell_type": "code",
   "execution_count": null,
   "id": "886ed106-4be7-4075-8de7-49bd6b346ab5",
   "metadata": {},
   "outputs": [],
   "source": [
    "#44) Find the most frequent word in a string\n",
    "\n",
    "user_str = input(\"Enter a string:\")\n",
    "\n",
    "punctuation_word = '''!()-[]{};:'\"\\,<>./?@#$%^&*_~''' # initializing punctuations string\n",
    "#first we remove punctuations if any\n",
    "for ele in user_str:\n",
    "    if ele in punctuation_word:\n",
    "        user_str = user_str.replace(ele, \"\")\n",
    "        \n",
    "#split the punctuation cleared string into list using split()\n",
    "split_str = user_str.split()\n",
    "count_str = [] #initialise empty list\n",
    "for i in split_str: #using for loop to iterate entire string\n",
    "    new_str = split_str.count(i) #checking word count \n",
    "    count_str.append(new_str) #adding word count to empty list\n",
    "    \n",
    "word_index = count_str.index(max(count_str)) \n",
    "modified_word = split_str[word_index]\n",
    "\n",
    "print(\"The most frequent word in a string:\",modified_word)"
   ]
  },
  {
   "cell_type": "code",
   "execution_count": null,
   "id": "7058e7eb-36a2-43a3-b695-c6c7e9d6fa12",
   "metadata": {},
   "outputs": [],
   "source": []
  },
  {
   "cell_type": "code",
   "execution_count": null,
   "id": "fe7fac65-1657-4c99-a07b-5f5984b172df",
   "metadata": {},
   "outputs": [],
   "source": [
    "#45) Find all unique words in a string\n",
    "\n",
    "user_str = input(\"Enter a string:\")\n",
    "\n",
    "punctuation_word = '''!()-[]{};:'\"\\,<>./?@#$%^&*_~''' # initializing punctuations string\n",
    "#first we remove punctuations if any\n",
    "for ele in user_str:\n",
    "    if ele in punctuation_word:\n",
    "        user_str = user_str.replace(ele, \"\")\n",
    "        \n",
    "'''split the user string and convert to set\n",
    "set will delete repeated words'''\n",
    "set_str = set(user_str.split())\n",
    "\n",
    "print(\"Unique words from an entered string:\",set_str)"
   ]
  },
  {
   "cell_type": "code",
   "execution_count": null,
   "id": "82baf6e3-c5c7-4d59-b167-23b6d59ae3c6",
   "metadata": {},
   "outputs": [],
   "source": []
  },
  {
   "cell_type": "code",
   "execution_count": null,
   "id": "d678e794-3aca-420c-81d1-41b2fbc915ff",
   "metadata": {},
   "outputs": [],
   "source": [
    "#46) Count the number of syllables in a string\n",
    "\n",
    "user_str = input(\"Enter a string: \") #taking user inputs\n",
    "\n",
    "vowel_count = 0 #initial count value is set 0\n",
    "\n",
    "for vowel_userSTR in user_str: #using for loop meethod to repeat same step until string ends\n",
    "    if vowel_userSTR in \"aeiouy\": # checking number of vowels including y (letter y is not strictly a vowel but behaves like one)\n",
    "        vowel_count += 1 # vowel count will increase if vowel found\n",
    "        \n",
    "print(\"Syllable present in entered string is \",vowel_count) #printing final expected output"
   ]
  },
  {
   "cell_type": "code",
   "execution_count": null,
   "id": "421cf11a-3aef-41ac-b3de-b63cf5f5e9b7",
   "metadata": {},
   "outputs": [],
   "source": []
  },
  {
   "cell_type": "code",
   "execution_count": null,
   "id": "2eae3074-7e4e-4a98-b366-1dc384eca978",
   "metadata": {},
   "outputs": [],
   "source": [
    "#47) Check if a string contains any special characters\n",
    "\n",
    "user_str = input(\"Enter a string:\")\n",
    "\n",
    "special_characters = '''!@#$%^&*()-+?_=,<>/'''\n",
    "\n",
    "if any(c in special_characters for c in user_str):\n",
    "    print(\"Entered string contains a special character\")\n",
    "else:\n",
    "    print(\"Entered string does not contains a special character\")"
   ]
  },
  {
   "cell_type": "code",
   "execution_count": null,
   "id": "e9887757-7cfc-46a0-aac0-db781dc53569",
   "metadata": {},
   "outputs": [],
   "source": []
  },
  {
   "cell_type": "code",
   "execution_count": null,
   "id": "9f941c7a-3be2-4e58-8740-3b1d0aa4f5c5",
   "metadata": {},
   "outputs": [],
   "source": [
    "#48) Remove the nth word from a string\n",
    "\n",
    "user_str = input(\"Enter a string:\")\n",
    "\n",
    "split_str = user_str.split()\n",
    "\n",
    "n = int(input(\"Enter a nth number to remove:\"))\n",
    "\n",
    "if n >= 1 and n <= len(split_str):\n",
    "    # Remove the nth word by excluding it from the words list\n",
    "    removed_word = split_str.pop(n - 1)\n",
    "\n",
    "    # Join the remaining words to form the modified string\n",
    "    modified_string = ' '.join(split_str)\n",
    "\n",
    "    print(\"Modified string:\",modified_string, \"and removed word from string is\",removed_word)\n",
    "else:\n",
    "    print(\"None\")"
   ]
  },
  {
   "cell_type": "code",
   "execution_count": null,
   "id": "e5aebf28-6b4d-4515-a83c-c49e4cc42983",
   "metadata": {},
   "outputs": [],
   "source": []
  },
  {
   "cell_type": "code",
   "execution_count": null,
   "id": "1c8d6e10-6a56-4170-b268-42e36041fea4",
   "metadata": {},
   "outputs": [],
   "source": [
    "#49) Insert a word at the nth position in a string\n",
    "\n",
    "#taking user inputs\n",
    "user_str = input(\"Enter a string:\")\n",
    "\n",
    "n = int(input(\"Enter a nth number to remove:\")) #enter index number to add word\n",
    "\n",
    "word = input(\"Enter a word to add in string:\") #enter a word which to be added in string\n",
    "\n",
    "list_str = user_str.split() #converting string into list\n",
    "\n",
    "list_str.insert(n,word) #adding a word a nth position using insert()\n",
    "\n",
    "final_word = ' '.join(list_str)\n",
    "\n",
    "print(final_word)"
   ]
  },
  {
   "cell_type": "code",
   "execution_count": null,
   "id": "4c9060d6-8fd1-4841-b2ec-cd9e9205ae4f",
   "metadata": {},
   "outputs": [],
   "source": []
  },
  {
   "cell_type": "code",
   "execution_count": null,
   "id": "c24e1c83-0f7d-4cd9-b4d4-8dbea5c5cafb",
   "metadata": {},
   "outputs": [],
   "source": [
    "#50) Convert a CSV string to a list of lists\n",
    "\n",
    "user_str = input(\"Enter a string:\")\n",
    "\n",
    "csv_file = user_str.split('\\n')\n",
    "\n",
    "# Initialize an empty list to store the result\n",
    "result = []\n",
    "\n",
    "for line in csv_file:\n",
    "    # Split each line into fields using comma as the delimiter\n",
    "    fields = line.split(',')\n",
    "    \n",
    "    # Append the fields to the result list as a row\n",
    "    result.append(fields)\n",
    "    \n",
    "for row in result:\n",
    "    print(row)"
   ]
  },
  {
   "cell_type": "code",
   "execution_count": null,
   "id": "411f5c61-2b83-48f0-96c4-bcda716a1306",
   "metadata": {},
   "outputs": [],
   "source": []
  },
  {
   "cell_type": "code",
   "execution_count": null,
   "id": "b3944acd-e60a-4006-a70b-0253ca0fef11",
   "metadata": {},
   "outputs": [],
   "source": [
    "#51) printing list from 1 to 10 using range()\n",
    "list_nbr = list(range(1, 11))\n",
    "\n",
    "print(list_nbr)"
   ]
  },
  {
   "cell_type": "code",
   "execution_count": null,
   "id": "0e62967b-8171-49d3-a7a8-bd7bf1d9f537",
   "metadata": {},
   "outputs": [],
   "source": []
  },
  {
   "cell_type": "code",
   "execution_count": null,
   "id": "89f03840-8c7a-4813-9b97-6bbbaf406890",
   "metadata": {},
   "outputs": [],
   "source": [
    "#52) getting output without using len() and using for loop\n",
    "list_nbr = list(range(1, 11))\n",
    "count = 0\n",
    "for i in list_nbr:\n",
    "    count += 1\n",
    "print(count)"
   ]
  },
  {
   "cell_type": "code",
   "execution_count": null,
   "id": "a6df2c19-5fe5-48b9-8700-95c89337e7e3",
   "metadata": {},
   "outputs": [],
   "source": []
  },
  {
   "cell_type": "code",
   "execution_count": null,
   "id": "f3d23a07-aab2-4038-bb37-6a398e37ec8e",
   "metadata": {},
   "outputs": [],
   "source": [
    "#53) appending an element at the end of list\n",
    "list_nbr = [1, 2, 3, 4, 5, 6, 7, 8, 9, 10]\n",
    "\n",
    "nbr_append = 20\n",
    "\n",
    "list_nbr.append(nbr_append)\n",
    "\n",
    "print(list_nbr)"
   ]
  },
  {
   "cell_type": "code",
   "execution_count": null,
   "id": "afce6bdc-dceb-4393-9c5c-302bcf921343",
   "metadata": {},
   "outputs": [],
   "source": []
  },
  {
   "cell_type": "code",
   "execution_count": null,
   "id": "d54de2e0-19c6-4f05-9527-b9e97981d78b",
   "metadata": {},
   "outputs": [],
   "source": [
    "#54) \n",
    "''' inserting an elemnet at a specific index using insert()\n",
    "which needs two arguments, index number and new element '''\n",
    "\n",
    "list_nbr = [1, 2, 3, 4, 5, 6, 7, 8, 9, 10]\n",
    "\n",
    "nbr_insert = 20\n",
    "\n",
    "list_nbr.insert(2, nbr_insert)\n",
    "\n",
    "print(list_nbr)"
   ]
  },
  {
   "cell_type": "code",
   "execution_count": null,
   "id": "2fcbe68d-f8dc-40b3-8202-d541c1f04716",
   "metadata": {},
   "outputs": [],
   "source": []
  },
  {
   "cell_type": "code",
   "execution_count": null,
   "id": "5deb548c-951b-4eb2-a1e5-12897ee2b054",
   "metadata": {},
   "outputs": [],
   "source": [
    "#55) removing an element by its value using remove()\n",
    "list_nbr = [1, 2, 3, 4, 5, 6, 7, 8, 9, 10]\n",
    "\n",
    "nbr_remove = 2\n",
    "\n",
    "list_nbr.remove(nbr_remove)\n",
    "\n",
    "print(list_nbr)"
   ]
  },
  {
   "cell_type": "code",
   "execution_count": null,
   "id": "db07ea7d-ff0d-4376-814e-183f0224b250",
   "metadata": {},
   "outputs": [],
   "source": []
  },
  {
   "cell_type": "code",
   "execution_count": null,
   "id": "b4957004-5987-4752-9d5d-0faf560f13eb",
   "metadata": {},
   "outputs": [],
   "source": [
    "#56) removing an element by its index using pop()\n",
    "list_nbr = [1, 2, 3, 4, 5, 6, 7, 8, 9, 10]\n",
    "\n",
    "nbr_remove_index = 2\n",
    "\n",
    "list_nbr.pop(nbr_remove_index)\n",
    "\n",
    "print(list_nbr)"
   ]
  },
  {
   "cell_type": "code",
   "execution_count": null,
   "id": "dcc79baa-f66f-4c82-8912-183c2928df6d",
   "metadata": {},
   "outputs": [],
   "source": []
  },
  {
   "cell_type": "code",
   "execution_count": null,
   "id": "4fb440aa-c407-4172-8c69-5b24f1a442c8",
   "metadata": {},
   "outputs": [],
   "source": [
    "#57) checking an element present in list or not using if function\n",
    "list_nbr = list(input(\"Entera list of numbers:\"))\n",
    "\n",
    "nbr_check = (input(\"Enter a number to check it exists in list or not:\"))\n",
    "\n",
    "if nbr_check in list_nbr:\n",
    "    print(\"Entered element\", nbr_check, \"present in list.\")\n",
    "\n",
    "else:\n",
    "    print(\"Entered element\", nbr_check, \"not present in list.\")\n",
    "print(list_nbr)"
   ]
  },
  {
   "cell_type": "code",
   "execution_count": null,
   "id": "41bd4c62-b814-4d70-bfc3-189a0bbe201f",
   "metadata": {},
   "outputs": [],
   "source": []
  },
  {
   "cell_type": "code",
   "execution_count": null,
   "id": "db60ae25-f62e-48ba-95a1-967ac37a6676",
   "metadata": {},
   "outputs": [],
   "source": [
    "#58) finding an index of an element using index()\n",
    "list_nbr = [1, 2, 4, 6, 5 ,3 , 2, 3, 4, 5, 6, 7, 8, 9, 10]\n",
    "\n",
    "nbr_find = 3\n",
    "\n",
    "index_output = list_nbr.index(nbr_find)\n",
    "\n",
    "print(index_output)"
   ]
  },
  {
   "cell_type": "code",
   "execution_count": null,
   "id": "994258b6-3c17-47b4-b3a6-dc37f8fd9339",
   "metadata": {},
   "outputs": [],
   "source": []
  },
  {
   "cell_type": "code",
   "execution_count": null,
   "id": "76c01b1a-0a85-4179-8b28-787aea3e24b3",
   "metadata": {},
   "outputs": [],
   "source": [
    "#59) getting the occurences of an element using count()\n",
    "list_nbr = [1, 2, 4, 6, 5 ,3 , 2, 3, 4, 5, 6, 7, 8, 9, 10]\n",
    "\n",
    "nbr_find = 5\n",
    "\n",
    "nbr_count = list_nbr.count(nbr_find)\n",
    "\n",
    "print (nbr_count)"
   ]
  },
  {
   "cell_type": "code",
   "execution_count": null,
   "id": "26bb5b94-0b4a-4e4b-9284-e85d03b24a09",
   "metadata": {},
   "outputs": [],
   "source": []
  },
  {
   "cell_type": "code",
   "execution_count": null,
   "id": "c0d917de-af67-48f0-b9cd-59ee40816b62",
   "metadata": {},
   "outputs": [],
   "source": [
    "#60) reversing a list using reverse()\n",
    "list_nbr = [1, 2, 4, 6, 5 ,3 , 2, 3, 4, 5, 6, 7, 8, 9, 10]\n",
    "\n",
    "list_nbr.reverse()\n",
    "\n",
    "print (list_nbr)"
   ]
  },
  {
   "cell_type": "code",
   "execution_count": null,
   "id": "a28a2d39-93f9-44bf-8bb6-71832da2aa7c",
   "metadata": {},
   "outputs": [],
   "source": []
  },
  {
   "cell_type": "code",
   "execution_count": null,
   "id": "4cb63df9-1c61-483c-b31a-75004ccfc108",
   "metadata": {},
   "outputs": [],
   "source": [
    "#61) sorting a list using sort()\n",
    "list_nbr = [1, 2, 4, 6, 5 ,3 , 2, 3, 4, 5, 6, 7, 8, 9, 10]\n",
    "\n",
    "list_nbr.sort()\n",
    "\n",
    "print (list_nbr)"
   ]
  },
  {
   "cell_type": "code",
   "execution_count": null,
   "id": "4a6209dc-e2c7-4a32-970f-71a3ce8b9ebe",
   "metadata": {},
   "outputs": [],
   "source": []
  },
  {
   "cell_type": "code",
   "execution_count": null,
   "id": "02c75491-bfe5-4a42-8cef-63185f9a9beb",
   "metadata": {},
   "outputs": [],
   "source": [
    "#62) sorting a list in a descending order using reverse withing sort()\n",
    "list_nbr = [1, 2, 4, 6, 5 ,3 , 2, 3, 4, 5, 6, 7, 8, 9, 10]\n",
    "\n",
    "list_nbr.sort(reverse=True)\n",
    "\n",
    "print (list_nbr)"
   ]
  },
  {
   "cell_type": "code",
   "execution_count": null,
   "id": "082af68a-6747-4822-aea9-b2aa8e695a1d",
   "metadata": {},
   "outputs": [],
   "source": []
  },
  {
   "cell_type": "code",
   "execution_count": null,
   "id": "8bbf3174-a1ed-474f-8302-aa8cab583ed8",
   "metadata": {},
   "outputs": [],
   "source": [
    "#63) creating a list of even numbers\n",
    "list_nbr = list(range(2,21,2))\n",
    "\n",
    "print (list_nbr)"
   ]
  },
  {
   "cell_type": "code",
   "execution_count": null,
   "id": "707250c6-4762-4b80-a5a9-d3aee22d3808",
   "metadata": {},
   "outputs": [],
   "source": []
  },
  {
   "cell_type": "code",
   "execution_count": null,
   "id": "6b68c80d-d6cc-430d-83ba-539dda42c6a9",
   "metadata": {},
   "outputs": [],
   "source": [
    "#64) creating a list of odd numbers\n",
    "list_nbr = list(range(1,22,2))\n",
    "\n",
    "print (list_nbr)"
   ]
  },
  {
   "cell_type": "code",
   "execution_count": null,
   "id": "3b5a6308-9c3d-485b-8375-7e9770906daf",
   "metadata": {},
   "outputs": [],
   "source": []
  },
  {
   "cell_type": "code",
   "execution_count": null,
   "id": "bef0c552-4a33-4426-875b-f7dd872219d8",
   "metadata": {},
   "outputs": [],
   "source": [
    "#65) sum of all elements in a list using sum()\n",
    "list_nbr = [1, 2, 4, 6, 5 ,3 , 2, 3, 4, 5, 6, 7, 8, 9, 10]\n",
    "\n",
    "sum_nbr = sum(list_nbr)\n",
    "\n",
    "print (sum_nbr)"
   ]
  },
  {
   "cell_type": "code",
   "execution_count": null,
   "id": "5f357c1b-cd7e-405b-80e6-f6e61ba9f1e7",
   "metadata": {},
   "outputs": [],
   "source": []
  },
  {
   "cell_type": "code",
   "execution_count": null,
   "id": "c2af6db0-d29e-4ef8-bba0-16bb8c0616e7",
   "metadata": {},
   "outputs": [],
   "source": [
    "#66) finding a largest element in a list using max()\n",
    "list_nbr = [1, 2, 4, 6, 5 ,3 , 2, 3, 77, 4, 5, 6, 7, 8, 9, 10]\n",
    "\n",
    "max_nbr = max(list_nbr)\n",
    "\n",
    "print (max_nbr)"
   ]
  },
  {
   "cell_type": "code",
   "execution_count": null,
   "id": "befb1ca5-9d4c-4490-8ccd-ef86cb746988",
   "metadata": {},
   "outputs": [],
   "source": []
  },
  {
   "cell_type": "code",
   "execution_count": null,
   "id": "165ae363-96a5-430e-9087-5ade163e8765",
   "metadata": {},
   "outputs": [],
   "source": [
    "#67) finding a smallest element in a list using min()\n",
    "list_nbr = [1, 2, 4, 6, 5 ,3 , 2, 3, 77, 4, 5, 6, 7, 8, 9, 10]\n",
    "\n",
    "min_nbr = min(list_nbr)\n",
    "\n",
    "print (min_nbr)"
   ]
  },
  {
   "cell_type": "code",
   "execution_count": null,
   "id": "16c9ea1a-c8c7-49d2-b7b1-fc5952af7cee",
   "metadata": {},
   "outputs": [],
   "source": []
  },
  {
   "cell_type": "code",
   "execution_count": null,
   "id": "7bb2f200-3bdf-40db-a98d-361e1660e9e4",
   "metadata": {},
   "outputs": [],
   "source": [
    "#68) Create a list of squares of numbers from 1 to 10\n",
    "\n",
    "list_nbr = [1, 2, 3, 4, 5, 6, 7, 8, 9, 10]\n",
    "\n",
    "new_list = [] #creating empty list\n",
    "\n",
    "for i in list_nbr:\n",
    "    new_list.append(i**2) #adding new numbers with append()\n",
    "print(new_list)"
   ]
  },
  {
   "cell_type": "code",
   "execution_count": null,
   "id": "6ce7064b-a1a5-47cf-aafd-5486b43f0985",
   "metadata": {},
   "outputs": [],
   "source": []
  },
  {
   "cell_type": "code",
   "execution_count": null,
   "id": "59386da0-c632-47a1-88f0-6e22d988ed47",
   "metadata": {},
   "outputs": [],
   "source": [
    "#69) Create a list of random numbers \n",
    "#creating a list of random numbers using import random\n",
    "import random\n",
    "\n",
    "randomlist = []\n",
    "\n",
    "for i in range(0,5):\n",
    "    n = random.randint(1,30)\n",
    "    randomlist.append(n)\n",
    "print(randomlist)"
   ]
  },
  {
   "cell_type": "code",
   "execution_count": null,
   "id": "5760eb15-ddd5-4d96-a1c4-8dec95ac97e5",
   "metadata": {},
   "outputs": [],
   "source": []
  },
  {
   "cell_type": "code",
   "execution_count": null,
   "id": "0136d245-9d54-4174-834b-d36a9e99c823",
   "metadata": {},
   "outputs": [],
   "source": [
    "#70) Remove duplicates from a list.\n",
    "\n",
    "list_nbr = [1, 2, 4, 6, 5 ,3 , 2, 3, 77, 4, 5, 6, 7, 8, 9, 10]\n",
    "\n",
    "new_list = list(set(list_nbr)) #using set() deletes duplicates\n",
    "\n",
    "print(new_list)"
   ]
  },
  {
   "cell_type": "code",
   "execution_count": null,
   "id": "182a4205-072f-4ad5-89dc-36456efa53e7",
   "metadata": {},
   "outputs": [],
   "source": []
  },
  {
   "cell_type": "code",
   "execution_count": null,
   "id": "44891062-9bdb-4131-ab32-431e2134f998",
   "metadata": {},
   "outputs": [],
   "source": [
    "#71) Find the common elements between two lists\n",
    "\n",
    "creating two lists\n",
    "list1 = [1, 2, 4, 6, 5 ,3 , 2, 3, 77, 4, 5, 6, 7, 8, 9, 10]\n",
    "\n",
    "list2 = [1, 2, 3, 4, 5, 6, 7, 8, 9, 10]\n",
    "\n",
    "count = [] #initial list is empty\n",
    "\n",
    "for i in list1: #initialising i in list1\n",
    "    if i in list2: #checking i in list2\n",
    "        count.append(i) #if i available in list2 then i will be appended in count list\n",
    "print(count)"
   ]
  },
  {
   "cell_type": "code",
   "execution_count": null,
   "id": "fd2b3f38-2d5a-4051-aacd-c76d0635efa7",
   "metadata": {},
   "outputs": [],
   "source": []
  },
  {
   "cell_type": "code",
   "execution_count": null,
   "id": "28a7e5e8-c2e1-495b-83cc-710509cd7ed4",
   "metadata": {},
   "outputs": [],
   "source": [
    "#72) Find the difference between two lists\n",
    "\n",
    "list1 = [1, 2, 4, 6, 5 ,3 , 2, 3, 77, 4, 5, 6, 7, 8, 9, 10, 30, 40, 66]\n",
    "list2 = [30, 40, 50, 60, 70]\n",
    "\n",
    "difference = list(set(list1)-set(list2))#checking difference using subtraction\n",
    "\n",
    "print(\"Difference between two lists:\", difference)"
   ]
  },
  {
   "cell_type": "code",
   "execution_count": null,
   "id": "94b2f7df-d91c-4653-8d1a-f774b31c25f8",
   "metadata": {},
   "outputs": [],
   "source": []
  },
  {
   "cell_type": "code",
   "execution_count": null,
   "id": "82b311e2-7b17-448f-b186-3f5194fcc889",
   "metadata": {},
   "outputs": [],
   "source": [
    "#73) Merge two lists\n",
    "\n",
    "list1 = [1, 2, 4, 6, 5 ,3 , 2, 3, 77, 4, 5, 6, 7, 8, 9, 10, 30, 40, 66]\n",
    "list2 = [30, 40, 50, 60, 70]\n",
    "\n",
    "difference = (list1)+(list2)#merging two list using addition\n",
    "\n",
    "print(\"Addition of two lists:\", difference)"
   ]
  },
  {
   "cell_type": "code",
   "execution_count": null,
   "id": "a2447056-ad06-41ff-89e0-5b75ec25b88a",
   "metadata": {},
   "outputs": [],
   "source": []
  },
  {
   "cell_type": "code",
   "execution_count": null,
   "id": "6ff28a71-e0b0-4055-a2c9-e720f8898f46",
   "metadata": {},
   "outputs": [],
   "source": [
    "#74) Multiply all elements in a list by 2.\n",
    "\n",
    "list1 = [1, 2, 4, 6, 5 ,3 , 2, 3, 77, 4, 5, 6, 7, 8, 9, 10, 30, 40, 66]\n",
    "\n",
    "result = []\n",
    "\n",
    "for i in list1:\n",
    "    result.append(i * 10)\n",
    "\n",
    "print(result)"
   ]
  },
  {
   "cell_type": "code",
   "execution_count": null,
   "id": "bd3d2613-f634-46f9-b3d7-67d97f05376f",
   "metadata": {},
   "outputs": [],
   "source": []
  },
  {
   "cell_type": "code",
   "execution_count": null,
   "id": "c873e6b3-d7fc-4d6f-9584-23bf9e5bd030",
   "metadata": {},
   "outputs": [],
   "source": [
    "#75) Filter out all even numbers from a list.\n",
    "\n",
    "list1 = [1, 2, 4, 6, 5 ,3 , 2, 3, 77, 4, 5, 6, 7, 8, 9, 10, 30, 40, 66]\n",
    "\n",
    "result = []\n",
    "for i in list1:\n",
    "    if i % 2 == 0:\n",
    "        result.append(i)\n",
    "print(result)"
   ]
  },
  {
   "cell_type": "code",
   "execution_count": null,
   "id": "1f1bac3f-8874-47c7-b272-59905a088ed5",
   "metadata": {},
   "outputs": [],
   "source": []
  },
  {
   "cell_type": "code",
   "execution_count": null,
   "id": "e0292be1-e32e-4999-b44b-4312ac3a0cad",
   "metadata": {},
   "outputs": [],
   "source": [
    "#76) Convert a list of strings to a list of integers.\n",
    "\n",
    "list1 = [\"1\", \"2\", \"3\", \"4\"]\n",
    "\n",
    "list2 = [int(x) for x in list1]\n",
    "\n",
    "print(list2)"
   ]
  },
  {
   "cell_type": "code",
   "execution_count": null,
   "id": "46374aaa-e3da-4514-9da6-d382e6265e53",
   "metadata": {},
   "outputs": [],
   "source": []
  },
  {
   "cell_type": "code",
   "execution_count": null,
   "id": "3a47aac9-d9ef-4783-92bc-7f8eea3a9005",
   "metadata": {},
   "outputs": [],
   "source": [
    "#77) Convert a list of integers to a list of strings\n",
    "\n",
    "list1 = [1, 2, 3, 4]\n",
    "\n",
    "list2 = [str(x) for x in list1]\n",
    "\n",
    "print(list2)"
   ]
  },
  {
   "cell_type": "code",
   "execution_count": null,
   "id": "46843f37-105f-42b9-a9f7-739db9434647",
   "metadata": {},
   "outputs": [],
   "source": []
  },
  {
   "cell_type": "code",
   "execution_count": null,
   "id": "65ef2ea3-ac78-44a9-a622-3459a602a67e",
   "metadata": {},
   "outputs": [],
   "source": [
    "#78) Flatten a nested list.\n",
    "\n",
    "list1 = [[1], [2, 3], [4, 5, 6, 7]]\n",
    "\n",
    "flattened_list = []\n",
    "for i in list1:\n",
    "    for num in i:\n",
    "        flattened_list.append(num)\n",
    "\n",
    "print(flattened_list)"
   ]
  },
  {
   "cell_type": "code",
   "execution_count": null,
   "id": "764ef858-3731-4619-846d-8f87ea56cd1f",
   "metadata": {},
   "outputs": [],
   "source": []
  },
  {
   "cell_type": "code",
   "execution_count": null,
   "id": "7eec00ec-c238-4d5f-ba87-dff17a833176",
   "metadata": {},
   "outputs": [],
   "source": [
    "#79) Create a list of the first 10 Fibonacci numbers.\n",
    "\n",
    "list1 = [0, 1]  # Initialize the list with the first two Fibonacci numbers\n",
    "\n",
    "for i in range(2, 10):\n",
    "    list2 = list1[i - 1] + list1[i - 2]\n",
    "    \n",
    "    list1.append(list2)\n",
    "    \n",
    "print(list1)"
   ]
  },
  {
   "cell_type": "code",
   "execution_count": null,
   "id": "3c81a305-b80b-449e-b42c-3cb06d6a2877",
   "metadata": {},
   "outputs": [],
   "source": []
  },
  {
   "cell_type": "code",
   "execution_count": null,
   "id": "42644617-c016-420e-b2b1-cab6f4272257",
   "metadata": {},
   "outputs": [],
   "source": [
    "#80) Check if a list is sorted.\n",
    "\n",
    "list1 = [1, 2, 4, 6, 5 ,3 , 2, 3, 77, 4, 5, 6, 7, 8, 9, 10, 30, 40, 66]\n",
    "\n",
    "list2 = list1[:] #assigning same list to another\n",
    "list2 = list2.sort() #sorting new list\n",
    "\n",
    "if list1 == list2: #checking if original list and sorted list are same or not\n",
    "    print(\"Entered list is sorted list\")\n",
    "else:\n",
    "    print(\"Entered list is not in sorted list\")"
   ]
  },
  {
   "cell_type": "code",
   "execution_count": null,
   "id": "583b2dcc-b9bb-4f9a-8e38-4addd5f818d1",
   "metadata": {},
   "outputs": [],
   "source": []
  },
  {
   "cell_type": "code",
   "execution_count": null,
   "id": "6a8996b1-1e79-4bd8-85fc-5c1f19897636",
   "metadata": {},
   "outputs": [],
   "source": [
    "#81) Rotate a list to the left by `n` positions\n",
    "\n",
    "list1 = [1, 2, 4, 6, 5 ,3 , 2, 3, 77, 4, 5, 6, 7, 8, 9, 10, 30, 40, 66]\n",
    "\n",
    "nth = int(input(\"Enter a number to rotate letters:\"))\n",
    "\n",
    "nth = nth % len(list1)\n",
    "\n",
    "list2 = list1[nth:] + list1[:nth]\n",
    "\n",
    "print( list2)"
   ]
  },
  {
   "cell_type": "code",
   "execution_count": null,
   "id": "ef1d69f4-80ac-4116-8202-1b29253d0ae1",
   "metadata": {},
   "outputs": [],
   "source": []
  },
  {
   "cell_type": "code",
   "execution_count": null,
   "id": "50566471-d2fe-402a-bce8-b4c7a568bb8d",
   "metadata": {},
   "outputs": [],
   "source": [
    "#82) Rotate a list to the right by `n` positions.\n",
    "list1 = [1, 2, 4, 6, 5 ,3 , 2, 3, 77, 4, 5, 6, 7, 8, 9, 10, 30, 40, 66]\n",
    "\n",
    "nth = int(input(\"Enter a number to rotate letters:\"))\n",
    "\n",
    "nth = nth % len(list1)\n",
    "\n",
    "list2 = list1[-nth:] + list1[:-nth]\n",
    "\n",
    "print( list2)"
   ]
  },
  {
   "cell_type": "code",
   "execution_count": null,
   "id": "451b47c2-fe2a-4bb7-8398-a5a26e2a3ce5",
   "metadata": {},
   "outputs": [],
   "source": []
  },
  {
   "cell_type": "code",
   "execution_count": null,
   "id": "1645d641-dbe7-4a45-b640-44a2a55dd2d7",
   "metadata": {},
   "outputs": [],
   "source": [
    "#83) Create a list of prime numbers up to 50.\n",
    "str_nbr = 0\n",
    "max_nbr = 50\n",
    "\n",
    "print(\"Prime numbers between\", str_nbr, \"and\", max_nbr, \"are:\")\n",
    "\n",
    "for num in range(str_nbr, max_nbr + 1):\n",
    "   # all prime numbers are greater than 1\n",
    "   if num > 1:\n",
    "       for i in range(2, num):\n",
    "           if (num % i) == 0:\n",
    "               break\n",
    "       else:\n",
    "           print(num)"
   ]
  },
  {
   "cell_type": "code",
   "execution_count": null,
   "id": "5b8cf326-de0e-4d78-ac32-1b0d9b5e903c",
   "metadata": {},
   "outputs": [],
   "source": []
  },
  {
   "cell_type": "code",
   "execution_count": null,
   "id": "1d199cca-a150-45c4-995c-3886d44fd48a",
   "metadata": {},
   "outputs": [],
   "source": [
    "#84) Split a list into chunks of size `n`.\n",
    "my_list = [1, 2, 3, 4, 5, 6, 7, 8, 9]\n",
    "\n",
    "start = 0\n",
    "\n",
    "end = len(my_list)\n",
    "\n",
    "step = 3\n",
    "\n",
    "for i in range(start, end, step):\n",
    "    x = i\n",
    "print(my_list[x:x+step])"
   ]
  },
  {
   "cell_type": "code",
   "execution_count": null,
   "id": "ed171784-3268-4fbc-b644-cc69f5511a19",
   "metadata": {},
   "outputs": [],
   "source": []
  },
  {
   "cell_type": "code",
   "execution_count": null,
   "id": "770266a4-ac00-43fa-b25f-0eed54c984d3",
   "metadata": {},
   "outputs": [],
   "source": [
    "#85) Find the second largest number in a list.\n",
    "list1 = [10, 20, 20, 4, 45, 45, 45, 46, 99, 99]\n",
    "\n",
    "list2 = list(set(list1))\n",
    "\n",
    "list2.sort()\n",
    "\n",
    "print(\"Second largest element is:\", list2[-2])"
   ]
  },
  {
   "cell_type": "code",
   "execution_count": null,
   "id": "dc2f18a3-8e5f-410c-8270-9292f58aa492",
   "metadata": {},
   "outputs": [],
   "source": []
  },
  {
   "cell_type": "code",
   "execution_count": null,
   "id": "b1ca23d5-6192-4f0b-8a4f-47a2dacff0b3",
   "metadata": {},
   "outputs": [],
   "source": [
    "#86) Replace every element in a list with its square\n",
    "old = [1, 2, 3, 4, 7, 8]\n",
    "\n",
    "new = []\n",
    "\n",
    "for i in old:\n",
    "    new.append(i**2)\n",
    "print(new)"
   ]
  },
  {
   "cell_type": "code",
   "execution_count": null,
   "id": "6c9c98bd-3992-442b-b4c4-0fc9ada7cd27",
   "metadata": {},
   "outputs": [],
   "source": []
  },
  {
   "cell_type": "code",
   "execution_count": null,
   "id": "3b412dc4-ac09-4a68-817a-20215b346a02",
   "metadata": {},
   "outputs": [],
   "source": [
    "#87) Convert a list to a dictionary where list elements become keys and their indices become values.\n",
    "old = [1, 2, 3, 4, 7, 8]\n",
    "\n",
    "dict1 = {}\n",
    "\n",
    "for i in range(len(old)):\n",
    "    value = old[i]\n",
    "    dict1[value] = i\n",
    "print(dict1)"
   ]
  },
  {
   "cell_type": "code",
   "execution_count": null,
   "id": "a77f0239-f051-495d-87c3-83049585e6fd",
   "metadata": {},
   "outputs": [],
   "source": []
  },
  {
   "cell_type": "code",
   "execution_count": null,
   "id": "f285a075-4526-4b68-89c0-50cce09d77b1",
   "metadata": {},
   "outputs": [],
   "source": [
    "#88) Shuffle the elements of a list randomly\n",
    "import random\n",
    "\n",
    "list1 = [1,7,5,9,6,3]\n",
    "\n",
    "random.shuffle(list1)\n",
    "\n",
    "print(list1)"
   ]
  },
  {
   "cell_type": "code",
   "execution_count": null,
   "id": "8fa1a51c-77ee-4451-8ae3-f5e9298e7a49",
   "metadata": {},
   "outputs": [],
   "source": []
  },
  {
   "cell_type": "code",
   "execution_count": null,
   "id": "70111acf-ed9c-4145-b274-a198eb8c41ac",
   "metadata": {},
   "outputs": [],
   "source": [
    "#89) Create a list of the first 10 factorial numbers.\n",
    "list1 = range(10)\n",
    "\n",
    "for number in list1:\n",
    "    factorial = 1\n",
    "    \n",
    "    for i in range(1, number + 1):\n",
    "        factorial *= i\n",
    "        \n",
    "    print(f\"Factorial of {number} is {factorial}\")"
   ]
  },
  {
   "cell_type": "code",
   "execution_count": null,
   "id": "abccc316-c9e1-4992-bc22-bb308e062229",
   "metadata": {},
   "outputs": [],
   "source": []
  },
  {
   "cell_type": "code",
   "execution_count": null,
   "id": "55c3f50d-d962-4ff5-b9a3-69e7447e4aea",
   "metadata": {},
   "outputs": [],
   "source": [
    "#90) Check if two lists have at least one element in common.\n",
    "list1 = [1, 2, 3, 4, 55]\n",
    "list2 = [3, 4, 90, 22]\n",
    "\n",
    "out = any(i in list1 for i in list2)\n",
    "\n",
    "if out:\n",
    "    print(\"True\")\n",
    "else :\n",
    "    print(\"False\")"
   ]
  },
  {
   "cell_type": "code",
   "execution_count": null,
   "id": "5ff643f7-eb51-49f8-aeb8-0706187bee7b",
   "metadata": {},
   "outputs": [],
   "source": []
  },
  {
   "cell_type": "code",
   "execution_count": null,
   "id": "4bbbfe1e-c95d-4c28-a6f3-affbca4b87ed",
   "metadata": {},
   "outputs": [],
   "source": [
    "#91) Remove all elements from a list.\n",
    "list1 = [1, 2, 3, 4]\n",
    "\n",
    "list1.clear()\n",
    "\n",
    "print(list1)"
   ]
  },
  {
   "cell_type": "code",
   "execution_count": null,
   "id": "c54749b9-3d40-47ca-b5c2-6b9de7be8d64",
   "metadata": {},
   "outputs": [],
   "source": []
  },
  {
   "cell_type": "code",
   "execution_count": null,
   "id": "45419549-3934-4b23-8ab4-4b7245b4924c",
   "metadata": {},
   "outputs": [],
   "source": [
    "#92) Replace negative numbers in a list with 0.\n",
    "list1 = [10, 20, 20, -55, -33, 4, 45, -5, -6, -9, 45, 45, 46, 99, 99]\n",
    "\n",
    "for i in range(len(list1)):\n",
    "    if list1[i] < 0 :\n",
    "        list1[i] = 0\n",
    "print(list1)"
   ]
  },
  {
   "cell_type": "code",
   "execution_count": null,
   "id": "4f7bccdc-f1a8-48cc-97e9-04b6a937006b",
   "metadata": {},
   "outputs": [],
   "source": []
  },
  {
   "cell_type": "code",
   "execution_count": null,
   "id": "ea36ae00-f5df-4616-af85-fec6e4f8ef94",
   "metadata": {},
   "outputs": [],
   "source": [
    "#93) Convert a string into a list of words\n",
    "list1 = input(\"Enter a string:\")\n",
    "\n",
    "list2 = list(list1)\n",
    "\n",
    "print(list2)"
   ]
  },
  {
   "cell_type": "code",
   "execution_count": null,
   "id": "ea24a9f1-863b-466c-bc68-4cdb565b9d73",
   "metadata": {},
   "outputs": [],
   "source": []
  },
  {
   "cell_type": "code",
   "execution_count": null,
   "id": "efdc467f-8dec-4127-9d8e-1a016ab74edf",
   "metadata": {},
   "outputs": [],
   "source": [
    "#94) Convert a list of words into a string.\n",
    "str_usr = ['i', ' ', 'a', 'm', ' ', 'l', 'e', 'a', 'r', 'n', 'i', 'n', 'g', ' ', 'p', 'y', 't', 'h', 'o', 'n']\n",
    "\n",
    "str_req = ''.join(str_usr)\n",
    "\n",
    "print(str_req)"
   ]
  },
  {
   "cell_type": "code",
   "execution_count": null,
   "id": "3555abc2-a770-4850-aa43-0ff251d768a3",
   "metadata": {},
   "outputs": [],
   "source": []
  },
  {
   "cell_type": "code",
   "execution_count": null,
   "id": "8afc014f-bfea-44d8-aa91-7cc9963ee220",
   "metadata": {},
   "outputs": [],
   "source": [
    "#95) Create a list of the first `n` powers of 2\n",
    "old = 4\n",
    "\n",
    "new = [2 ** i for i in range(old+1)]\n",
    "\n",
    "print(new)"
   ]
  },
  {
   "cell_type": "code",
   "execution_count": null,
   "id": "98af7be7-1661-4cc0-9d80-db8c3643e8d1",
   "metadata": {},
   "outputs": [],
   "source": []
  },
  {
   "cell_type": "code",
   "execution_count": null,
   "id": "3a28a8ce-480a-4d96-9f65-2e7da6ba6578",
   "metadata": {},
   "outputs": [],
   "source": [
    "#96) Find the longest string in a list of strings.\n",
    "list1 = [\"We\", \"specify\", \"the\", \"value\", \"of\", \"n\", \"which\", \"indicates\", \"the\", \"number\", \"of\", \"powers\", \"of\", \"2\", \"to\", \"generate\"]\n",
    "\n",
    "count = \"\"\n",
    "\n",
    "for i in list1:\n",
    "    if len(i) > len(count):\n",
    "        count = i\n",
    "print(count)"
   ]
  },
  {
   "cell_type": "code",
   "execution_count": null,
   "id": "1d40230e-623d-41d2-9c2b-a2b32c4b0c04",
   "metadata": {},
   "outputs": [],
   "source": []
  },
  {
   "cell_type": "code",
   "execution_count": null,
   "id": "986479dd-8308-4bbb-9fd1-81aa19915f7a",
   "metadata": {},
   "outputs": [],
   "source": [
    "#97) Find the shortest string in a list of strings\n",
    "list2 = [\"Find\", \"the\", \"shortest\", \"string\", \"in\", \"list\", \"of\", \"strings\"]\n",
    "\n",
    "shr_str = list2[0]\n",
    "\n",
    "for s in list2:\n",
    "    if len(s) < len(shr_str):\n",
    "        shr_str = s\n",
    "\n",
    "print(\"Shortest string:\", shr_str)"
   ]
  },
  {
   "cell_type": "code",
   "execution_count": null,
   "id": "6c82bfdf-11ad-4ed8-94c2-22f2fe3f49c6",
   "metadata": {},
   "outputs": [],
   "source": []
  },
  {
   "cell_type": "code",
   "execution_count": null,
   "id": "1d45bc7d-a750-430e-8d2b-7d231bf7892e",
   "metadata": {},
   "outputs": [],
   "source": [
    "#98) Create a list of the first `n` triangular numbers\n",
    "user_nbr = int(input(\"Enter any number:\"))\n",
    "nums = []\n",
    "num = 0\n",
    "\n",
    "for i in range(1, user_nbr+1):\n",
    "    num += i\n",
    "    \n",
    "    nums.append(num)\n",
    "print(nums)"
   ]
  },
  {
   "cell_type": "code",
   "execution_count": null,
   "id": "6ded484b-80d3-4e94-adae-570f9867df55",
   "metadata": {},
   "outputs": [],
   "source": []
  },
  {
   "cell_type": "code",
   "execution_count": null,
   "id": "dcd37709-26e8-4274-92d0-be64ea5610c5",
   "metadata": {},
   "outputs": [],
   "source": [
    "#99) Check if a list contains another list as a subsequence\n",
    "list1 = [1, 2, 3, 4, 55]\n",
    "list2 = [3, 4, 55, 2]\n",
    "\n",
    "out = all(i in list1 for i in list2)\n",
    "\n",
    "if out:\n",
    "    print(\"Yes, list is subsequence of other\")\n",
    "else :\n",
    "    print(\"No, list is not subsequence of other\")"
   ]
  },
  {
   "cell_type": "code",
   "execution_count": null,
   "id": "0644cf37-c258-4682-a7e5-c2fec0a20118",
   "metadata": {},
   "outputs": [],
   "source": []
  },
  {
   "cell_type": "code",
   "execution_count": null,
   "id": "298f46b3-aaf6-4248-b33e-1bfb646f8858",
   "metadata": {},
   "outputs": [],
   "source": [
    "#100) Swap two elements in a list by their indices\n",
    "list1 = [1, 6, 9, 12, 17]\n",
    "\n",
    "# Indices of elements to swap\n",
    "index1 = 1\n",
    "index2 = 3\n",
    "\n",
    "# Swap the elements at the specified indices\n",
    "new_item = list1[index1]\n",
    "\n",
    "list1[index1] = list1[index2]\n",
    "\n",
    "list1[index2] = new_item\n",
    "\n",
    "# Print the list after swapping\n",
    "print(\"List after swapping elements:\", list1)"
   ]
  },
  {
   "cell_type": "code",
   "execution_count": null,
   "id": "be8dafdc-acaa-4f8b-95b2-c0019af2d893",
   "metadata": {},
   "outputs": [],
   "source": []
  },
  {
   "cell_type": "code",
   "execution_count": null,
   "id": "4fa3b57e-fa55-45a9-ad11-0f57143db329",
   "metadata": {},
   "outputs": [],
   "source": [
    "#101) Create a tuple with integers from 1 to 5.\n",
    "\n",
    "tple = tuple(range(1,6))\n",
    "\n",
    "print(tple)"
   ]
  },
  {
   "cell_type": "code",
   "execution_count": null,
   "id": "b4a0dcf4-98b5-4fd5-b4ed-f30b1b350b15",
   "metadata": {},
   "outputs": [],
   "source": []
  },
  {
   "cell_type": "code",
   "execution_count": null,
   "id": "ea85a601-ec69-4199-8e0b-dd494f2691b7",
   "metadata": {},
   "outputs": [],
   "source": [
    "#102) Access the third element of a tuple.\n",
    "tple = tuple(range(1,6))\n",
    "\n",
    "print(tple[2])"
   ]
  },
  {
   "cell_type": "code",
   "execution_count": null,
   "id": "16255411-80ef-44f6-9577-8bee0f0ac0f4",
   "metadata": {},
   "outputs": [],
   "source": []
  },
  {
   "cell_type": "code",
   "execution_count": null,
   "id": "6ebef840-d539-4c4c-b6b6-d12dfc3d7266",
   "metadata": {},
   "outputs": [],
   "source": [
    "#103) Find the length of a tuple without using the `len()` function\n",
    "tple = tuple(range(1,6))\n",
    "\n",
    "count = 0\n",
    "\n",
    "for i in tple:\n",
    "    count += 1\n",
    "\n",
    "print(count)"
   ]
  },
  {
   "cell_type": "code",
   "execution_count": null,
   "id": "66b60732-2edd-411c-a585-a108827929e4",
   "metadata": {},
   "outputs": [],
   "source": []
  },
  {
   "cell_type": "code",
   "execution_count": null,
   "id": "4c475736-aa7a-4aba-9258-3b51ad61f0a7",
   "metadata": {},
   "outputs": [],
   "source": [
    "#104) Count the occurrences of an element in a tuple.\n",
    "tple = (1, 2, 3, 4, 5, 2)\n",
    "\n",
    "req_value = 2\n",
    "\n",
    "count = 0\n",
    "\n",
    "for i in tple:\n",
    "    if i == req_value:\n",
    "        count += 1\n",
    "print(count)"
   ]
  },
  {
   "cell_type": "code",
   "execution_count": null,
   "id": "de56a837-1b5d-486b-a378-55a150d0c371",
   "metadata": {},
   "outputs": [],
   "source": []
  },
  {
   "cell_type": "code",
   "execution_count": null,
   "id": "70303b0d-1a36-4a1d-ad44-acc9ce2b31e0",
   "metadata": {},
   "outputs": [],
   "source": [
    "#105) Find the index of the first occurrence of an element in a tuple\n",
    "tple = (1, 2, 3, 4, 5, 2)\n",
    "\n",
    "req_value = 2\n",
    "\n",
    "count = 0\n",
    "\n",
    "for i, k in enumerate(tple):\n",
    "    if k == req_value:\n",
    "        print(i)\n",
    "        break #using to stop iterate if required value found"
   ]
  },
  {
   "cell_type": "code",
   "execution_count": null,
   "id": "8bc475e5-6bb5-41f5-a46e-6618ed4b59d9",
   "metadata": {},
   "outputs": [],
   "source": []
  },
  {
   "cell_type": "code",
   "execution_count": null,
   "id": "6b7e761b-8c53-4936-ada1-4ed6bc59c2bf",
   "metadata": {},
   "outputs": [],
   "source": [
    "#106) Check if an element exists in a tuple\n",
    "tple = (1, 2, 3, 4, 5, 2)\n",
    "\n",
    "req_value = 7\n",
    "\n",
    "if req_value in tple:\n",
    "    print(\"Entered element present in tuple.\")\n",
    "else:\n",
    "    print(\"Entered element not present in tuple.\")"
   ]
  },
  {
   "cell_type": "code",
   "execution_count": null,
   "id": "f9811e76-c39a-40a1-a3fd-584d6c308c95",
   "metadata": {},
   "outputs": [],
   "source": []
  },
  {
   "cell_type": "code",
   "execution_count": null,
   "id": "bc87f226-1b30-42d7-907b-d6e0d89b71ba",
   "metadata": {},
   "outputs": [],
   "source": [
    "#107) Convert a tuple to a list\n",
    "tple = (1, 2, 3, 4, 5, 2)\n",
    "\n",
    "list1 = list(tple)\n",
    "\n",
    "print(list1)"
   ]
  },
  {
   "cell_type": "code",
   "execution_count": null,
   "id": "7a92aad2-95ad-484e-a9db-2de4e8d726b4",
   "metadata": {},
   "outputs": [],
   "source": []
  },
  {
   "cell_type": "code",
   "execution_count": null,
   "id": "bcb9527d-ccdf-44b7-a0eb-66cb52b9ef1e",
   "metadata": {},
   "outputs": [],
   "source": [
    "#108) Convert a list to a tuple\n",
    "list1 = [1, 2, 3, 4, 5, 2]\n",
    "\n",
    "tple = tuple(list1)\n",
    "\n",
    "print(tple)"
   ]
  },
  {
   "cell_type": "code",
   "execution_count": null,
   "id": "1d7e9ba4-8bd2-4d95-841f-49e9f379b04d",
   "metadata": {},
   "outputs": [],
   "source": []
  },
  {
   "cell_type": "code",
   "execution_count": null,
   "id": "3a6504d1-72ae-442b-b77a-0f557a1ad1ff",
   "metadata": {},
   "outputs": [],
   "source": [
    "#109) Unpack the elements of a tuple into variables\n",
    "tple = (1, 3, 5)\n",
    "\n",
    "var1, var2, var3 = tple\n",
    "\n",
    "print (\"Variable for first value:\", var1)\n",
    "print (\"Variable for second value:\", var2)\n",
    "print (\"Variable for third value:\", var3)"
   ]
  },
  {
   "cell_type": "code",
   "execution_count": null,
   "id": "d5b52de5-5844-4dc3-bb46-d776c79d88a8",
   "metadata": {},
   "outputs": [],
   "source": []
  },
  {
   "cell_type": "code",
   "execution_count": null,
   "id": "3c20cf63-930c-4975-ab17-1e54f5ee27b6",
   "metadata": {},
   "outputs": [],
   "source": [
    "#110) Create a tuple of even numbers from 1 to 10.\n",
    "tple = tuple(range(2,11,2))\n",
    "\n",
    "print(tple)"
   ]
  },
  {
   "cell_type": "code",
   "execution_count": null,
   "id": "5c277070-f0fe-42d2-8efd-ba652f3ad88c",
   "metadata": {},
   "outputs": [],
   "source": []
  },
  {
   "cell_type": "code",
   "execution_count": null,
   "id": "d6f8c25a-099d-48fd-beab-e3014569fcbb",
   "metadata": {},
   "outputs": [],
   "source": [
    "#111) Create a tuple of odd numbers from 1 to 10\n",
    "tple = tuple(range(1,11,2))\n",
    "\n",
    "print(tple)"
   ]
  },
  {
   "cell_type": "code",
   "execution_count": null,
   "id": "f3c66ccc-d320-4335-8ae6-103b32dbf266",
   "metadata": {},
   "outputs": [],
   "source": []
  },
  {
   "cell_type": "code",
   "execution_count": null,
   "id": "fb81e587-b875-486f-ae85-476d4e093440",
   "metadata": {},
   "outputs": [],
   "source": [
    "#112) Concatenate two tuples\n",
    "tple1 = tuple(range(1,11,2))\n",
    "\n",
    "tple2 = tuple(range(2,11,2))\n",
    "\n",
    "concatenate_tple = tple1 + tple2\n",
    "\n",
    "print(concatenate_tple)"
   ]
  },
  {
   "cell_type": "code",
   "execution_count": null,
   "id": "3feec2f6-1c0d-41de-9dc7-6a9deaeeedae",
   "metadata": {},
   "outputs": [],
   "source": []
  },
  {
   "cell_type": "code",
   "execution_count": null,
   "id": "e65f758c-f475-4fbc-95d6-149be8c24c04",
   "metadata": {},
   "outputs": [],
   "source": [
    "#113) Repeat a tuple three times\n",
    "tple1 = tuple(range(1,11,2))\n",
    "\n",
    "repeat_tple = tple1 * 3\n",
    "\n",
    "print(repeat_tple)"
   ]
  },
  {
   "cell_type": "code",
   "execution_count": null,
   "id": "8c465b5f-e76c-4a20-ad84-aea51391c967",
   "metadata": {},
   "outputs": [],
   "source": []
  },
  {
   "cell_type": "code",
   "execution_count": null,
   "id": "3c6dffc1-13e7-48c4-a9f1-705609befee2",
   "metadata": {},
   "outputs": [],
   "source": [
    "#114) Check if a tuple is empty\n",
    "tple1 = (1, 5, 6, 8, 8)\n",
    "\n",
    "if tple1:\n",
    "    print(\"Tuple is not empty.\")\n",
    "else:\n",
    "    print(\"Tuple is empty\")"
   ]
  },
  {
   "cell_type": "code",
   "execution_count": null,
   "id": "76fb1f0f-5f01-481c-9020-50c1e0d1db17",
   "metadata": {},
   "outputs": [],
   "source": []
  },
  {
   "cell_type": "code",
   "execution_count": null,
   "id": "04197736-73e5-418d-af49-5db820b07c63",
   "metadata": {},
   "outputs": [],
   "source": [
    "#115) Create a nested tuple\n",
    "tup1 = (3, 4),\n",
    "tup2 = (5, 6),\n",
    " \n",
    "# printing original tuples\n",
    "print(\"The original tuple 1 : \" + str(tup1))\n",
    "print(\"The original tuple 2 : \" + str(tup2))\n",
    " \n",
    "# Concatenating tuples to nested tuples\n",
    "# using + operator + \", \" operator during initialization\n",
    "new_tup = tup1 + tup2\n",
    " \n",
    "# printing result\n",
    "print(\"Tuples after Concatenating : \" + str(new_tup))"
   ]
  },
  {
   "cell_type": "code",
   "execution_count": null,
   "id": "f1f95d65-ce83-42c5-8a5b-c89c7ef4ec2d",
   "metadata": {},
   "outputs": [],
   "source": []
  },
  {
   "cell_type": "code",
   "execution_count": null,
   "id": "59d7974f-8d51-4d82-8133-c4607caa8e8b",
   "metadata": {},
   "outputs": [],
   "source": [
    "#116) Access the first element of a nested tuple\n",
    "tple = tuple(range(10))\n",
    "\n",
    "print(tple[0])"
   ]
  },
  {
   "cell_type": "code",
   "execution_count": null,
   "id": "337338ab-52ab-4eb4-8aa9-2b84aebc98f5",
   "metadata": {},
   "outputs": [],
   "source": []
  },
  {
   "cell_type": "code",
   "execution_count": null,
   "id": "7b24d1b6-c590-41ef-9fdf-e59035a176e4",
   "metadata": {},
   "outputs": [],
   "source": [
    "#117) Create a tuple with a single element\n",
    "tple = (1),\n",
    "\n",
    "print(tple)"
   ]
  },
  {
   "cell_type": "code",
   "execution_count": null,
   "id": "9247a9e8-35d3-4065-8e83-6dfbbc8bf98a",
   "metadata": {},
   "outputs": [],
   "source": []
  },
  {
   "cell_type": "code",
   "execution_count": null,
   "id": "f431fe5e-3956-40ee-8448-0d16776fcb8a",
   "metadata": {},
   "outputs": [],
   "source": [
    "#118) Compare two tuples\n",
    "# Step 1: Create two tuples\n",
    "tuple1 = (1, 2, 3)\n",
    "tuple2 = (1, 2, 4)\n",
    "\n",
    "# Step 2: Compare the two tuples using comparison operators\n",
    "print(\"tuple1 == tuple2:\", tuple1 == tuple2)  # Equality check\n",
    "print(\"tuple1 != tuple2:\", tuple1 != tuple2)  # Inequality check\n",
    "print(\"tuple1 < tuple2:\", tuple1 < tuple2)    # Less than check\n",
    "print(\"tuple1 <= tuple2:\", tuple1 <= tuple2)  # Less than or equal to check\n",
    "print(\"tuple1 > tuple2:\", tuple1 > tuple2)    # Greater than check\n",
    "print(\"tuple1 >= tuple2:\", tuple1 >= tuple2)  # Greater than or equal to check"
   ]
  },
  {
   "cell_type": "code",
   "execution_count": null,
   "id": "101281ce-8738-42c1-9913-a694f8bbbe12",
   "metadata": {},
   "outputs": [],
   "source": []
  },
  {
   "cell_type": "code",
   "execution_count": null,
   "id": "6ee85f13-a00a-4deb-91da-bcb410c8b8b4",
   "metadata": {},
   "outputs": [],
   "source": [
    "#119) Delete a tuple.\n",
    "tple = (1, 2, 3, 4)\n",
    "\n",
    "del tple\n",
    "\n",
    "print(tple)"
   ]
  },
  {
   "cell_type": "code",
   "execution_count": null,
   "id": "4275a1dd-5e99-4d7e-aaf4-8e3661bac05d",
   "metadata": {},
   "outputs": [],
   "source": []
  },
  {
   "cell_type": "code",
   "execution_count": null,
   "id": "d79bf4dc-ffe9-44d0-abb6-039a634a2c95",
   "metadata": {},
   "outputs": [],
   "source": [
    "#120) Slice a tuple\n",
    "tple = (1, 2, 3, 4)\n",
    "\n",
    "tple = tple[1:3]\n",
    "\n",
    "print(tple)"
   ]
  },
  {
   "cell_type": "code",
   "execution_count": null,
   "id": "de301bf6-a194-4210-9f9e-400d8cb9300e",
   "metadata": {},
   "outputs": [],
   "source": []
  },
  {
   "cell_type": "code",
   "execution_count": null,
   "id": "c4b05865-65ec-438e-a0af-87a158b2d35c",
   "metadata": {},
   "outputs": [],
   "source": [
    "#121) Find the maximum value in a tuple\n",
    "tple = (1, 2, 3, 4)\n",
    "\n",
    "tple1 = max(tple)\n",
    "\n",
    "print(tple1)"
   ]
  },
  {
   "cell_type": "code",
   "execution_count": null,
   "id": "587d46ab-bc30-406e-9477-a78035535ecf",
   "metadata": {},
   "outputs": [],
   "source": []
  },
  {
   "cell_type": "code",
   "execution_count": null,
   "id": "a7f8c498-7193-414b-b8f0-9d1337ebf9c8",
   "metadata": {},
   "outputs": [],
   "source": [
    "#122) Find the minimum value in a tuple.\n",
    "tple = (1, 2, 3, 4)\n",
    "\n",
    "tple1 = min(tple)\n",
    "\n",
    "print(tple1)"
   ]
  },
  {
   "cell_type": "code",
   "execution_count": null,
   "id": "fa9573e9-4bb3-4e7f-b4a0-d48f7d7b9dd2",
   "metadata": {},
   "outputs": [],
   "source": []
  },
  {
   "cell_type": "code",
   "execution_count": null,
   "id": "b8ad0b28-613d-48ea-a61e-159cab870173",
   "metadata": {},
   "outputs": [],
   "source": [
    "#123) Convert a string to a tuple of characters\n",
    "str_usr = \"pwskills\"\n",
    "\n",
    "tple = tuple(str_usr)\n",
    "\n",
    "print(tple)"
   ]
  },
  {
   "cell_type": "code",
   "execution_count": null,
   "id": "f86951b8-46ec-44b4-a5ce-8e7ebc185842",
   "metadata": {},
   "outputs": [],
   "source": []
  },
  {
   "cell_type": "code",
   "execution_count": null,
   "id": "617275c2-f8e5-4aac-b321-ef0c7af320dc",
   "metadata": {},
   "outputs": [],
   "source": [
    "#124) Convert a tuple of characters to a string\n",
    "tple = ('p', 'w', 's', 'k', 'i', 'l', 'l', 's')\n",
    "\n",
    "str_usr = ''.join(tple)\n",
    "\n",
    "print(str_usr)"
   ]
  },
  {
   "cell_type": "code",
   "execution_count": null,
   "id": "9b1f047c-47e6-4f90-a7c2-83ef66db0fb3",
   "metadata": {},
   "outputs": [],
   "source": []
  },
  {
   "cell_type": "code",
   "execution_count": null,
   "id": "490ef7ff-9492-4be8-b5c0-f29b99399070",
   "metadata": {},
   "outputs": [],
   "source": [
    "#125) Create a tuple from multiple data types\n",
    "multi_tple = ((1,9,6,7), \"pwskills\", True, 15.34)\n",
    "\n",
    "print(multi_tple)"
   ]
  },
  {
   "cell_type": "code",
   "execution_count": null,
   "id": "dd0846d2-45d1-422f-94d7-61c2b2e54db3",
   "metadata": {},
   "outputs": [],
   "source": []
  },
  {
   "cell_type": "code",
   "execution_count": null,
   "id": "745d2676-3638-4695-901b-05b29fa2cf63",
   "metadata": {},
   "outputs": [],
   "source": [
    "#126) Check if two tuples are identical\n",
    "tple1 = (1,2,3,4,5)\n",
    "\n",
    "tple2 = (1,2,3,4)\n",
    "\n",
    "if tple1 == tple2:\n",
    "    print(\"Two tuples are identical.\")\n",
    "else:\n",
    "    print(\"Two tuples are not identical.\")"
   ]
  },
  {
   "cell_type": "code",
   "execution_count": null,
   "id": "90fccd48-0f12-4967-8733-3d5cc7c99b59",
   "metadata": {},
   "outputs": [],
   "source": []
  },
  {
   "cell_type": "code",
   "execution_count": null,
   "id": "dd271020-6e2b-47d2-a603-ea8663bc17dd",
   "metadata": {},
   "outputs": [],
   "source": [
    "#127) Sort the elements of a tuple\n",
    "tple1 = (1,6,9,5,5)\n",
    "\n",
    "tple2 = sorted(tple1)\n",
    "\n",
    "print(tple2)"
   ]
  },
  {
   "cell_type": "code",
   "execution_count": null,
   "id": "4bef60ae-57bd-4ce6-9e49-4f0fb38acbdd",
   "metadata": {},
   "outputs": [],
   "source": []
  },
  {
   "cell_type": "code",
   "execution_count": null,
   "id": "f636ab71-a192-4cb2-9fd1-a483b90680fa",
   "metadata": {},
   "outputs": [],
   "source": [
    "#128) Convert a tuple of integers to a tuple of strings\n",
    "tple1 = (1,6,9,5,5)\n",
    "\n",
    "str_tple = tuple(map(str, tple1))\n",
    "\n",
    "print(str_tple)"
   ]
  },
  {
   "cell_type": "code",
   "execution_count": null,
   "id": "d737e7ca-709c-45db-8ed3-1b2233d303cd",
   "metadata": {},
   "outputs": [],
   "source": []
  },
  {
   "cell_type": "code",
   "execution_count": null,
   "id": "d3e56489-59da-4d4b-b9c6-5e9e3404967e",
   "metadata": {},
   "outputs": [],
   "source": [
    "#129) Convert a tuple of strings to a tuple of integers\n",
    "str_tple = ('1', '6', '9', '5', '5')\n",
    "\n",
    "tple = tuple(map(int, str_tple))\n",
    "\n",
    "print(tple)"
   ]
  },
  {
   "cell_type": "code",
   "execution_count": null,
   "id": "674effb4-5eb9-482b-86a4-2b9d146a9489",
   "metadata": {},
   "outputs": [],
   "source": []
  },
  {
   "cell_type": "code",
   "execution_count": null,
   "id": "e3589758-c29e-4f6e-85e3-dfccaff9d83b",
   "metadata": {},
   "outputs": [],
   "source": [
    "#130) Merge two tuples\n",
    "tple1 = (1,2,3,4,5)\n",
    "\n",
    "tple2 = (1,2,3,4)\n",
    "\n",
    "tple = tple1 + tple2\n",
    "\n",
    "print(tple)"
   ]
  },
  {
   "cell_type": "code",
   "execution_count": null,
   "id": "8075bd07-1433-4ce7-8667-611f9830e1c7",
   "metadata": {},
   "outputs": [],
   "source": []
  },
  {
   "cell_type": "code",
   "execution_count": null,
   "id": "25103e31-16d8-417d-bda4-c4e1b3184cf9",
   "metadata": {},
   "outputs": [],
   "source": [
    "#131) Flatten a nested tuple\n",
    "tple = ((1,2,3,4,5), (1,2,3,4))\n",
    "\n",
    "flatten_tple = []\n",
    "\n",
    "for i in tple:\n",
    "    for k in i:\n",
    "        flatten_tple.append(k)\n",
    "\n",
    "print(tuple(flatten_tple))"
   ]
  },
  {
   "cell_type": "code",
   "execution_count": null,
   "id": "3ba98259-0cef-4d9e-b743-bbb680edf8e7",
   "metadata": {},
   "outputs": [],
   "source": []
  },
  {
   "cell_type": "code",
   "execution_count": null,
   "id": "4c06188f-1582-4676-9ef2-00a2bede1e33",
   "metadata": {},
   "outputs": [],
   "source": [
    "#132) Create a tuple of the first 5 prime numbers\n",
    "t = []\n",
    "for i in range(2, 12):\n",
    "    c = 0\n",
    "    for j in range(1, i):\n",
    "        if i%j == 0:\n",
    "            c += 1\n",
    "    if c == 1:\n",
    "        t.append(i)\n",
    "print(tuple(t))"
   ]
  },
  {
   "cell_type": "code",
   "execution_count": null,
   "id": "d4dddea4-5847-46e6-b10f-df046d7c7298",
   "metadata": {},
   "outputs": [],
   "source": []
  },
  {
   "cell_type": "code",
   "execution_count": null,
   "id": "e4e9fd9f-bc89-4d7c-9d31-ea83efd9d8a6",
   "metadata": {},
   "outputs": [],
   "source": [
    "#133) Check if a tuple is a palindrome\n",
    "tple = (1, 2, 3, 4, 5, 6, 5, 4, 3, 2, 1)\n",
    "\n",
    "tple1 = tple[::-1]\n",
    "\n",
    "if tple == tple1:\n",
    "    print(\"Tuple is a palindrome.\")\n",
    "else:\n",
    "    print(\"Tuple is not a palindrome.\")"
   ]
  },
  {
   "cell_type": "code",
   "execution_count": null,
   "id": "54b2b5c6-69bf-4c1f-9f4e-7938ce4dbce7",
   "metadata": {},
   "outputs": [],
   "source": []
  },
  {
   "cell_type": "code",
   "execution_count": null,
   "id": "0c7ce530-4346-44a2-bdba-482645536a2a",
   "metadata": {},
   "outputs": [],
   "source": [
    "#134) Create a tuple of squares of numbers from 1 to 5\n",
    "tple = (1, 2, 3, 4, 5)\n",
    "\n",
    "tple1 = []\n",
    "\n",
    "for i in tple:\n",
    "    tple1.append(i ** 2)\n",
    "print(tuple(tple1))"
   ]
  },
  {
   "cell_type": "code",
   "execution_count": null,
   "id": "b4ba1ebc-27d2-4279-8436-24b1651d9e38",
   "metadata": {},
   "outputs": [],
   "source": []
  },
  {
   "cell_type": "code",
   "execution_count": null,
   "id": "f1b6da17-72f8-40a7-9be2-8b4869724677",
   "metadata": {},
   "outputs": [],
   "source": [
    "#135) Filter out all even numbers from a tuple\n",
    "tple = (1, 2, 3, 4, 5, 6, 7, 8, 9, 10)\n",
    "\n",
    "tple1 = []\n",
    "\n",
    "for i in tple:\n",
    "    if i%2 == 0:\n",
    "        tple1.append(i)\n",
    "        \n",
    "print(tuple(tple1))"
   ]
  },
  {
   "cell_type": "code",
   "execution_count": null,
   "id": "da1ad5b2-6ad3-498c-90b9-a023129e89d6",
   "metadata": {},
   "outputs": [],
   "source": []
  },
  {
   "cell_type": "code",
   "execution_count": null,
   "id": "2f2f65fb-0e27-472e-ab5b-1f59ba2cda28",
   "metadata": {},
   "outputs": [],
   "source": [
    "#136) Multiply all elements in a tuple by 2\n",
    "tple = (1, 2, 3, 4, 5)\n",
    "\n",
    "tple1 = []\n",
    "\n",
    "for i in tple:\n",
    "    tple1.append(i * 2)\n",
    "print(tuple(tple1))"
   ]
  },
  {
   "cell_type": "code",
   "execution_count": null,
   "id": "75b71d3c-7cf6-4bdd-8922-0a399d984a1b",
   "metadata": {},
   "outputs": [],
   "source": []
  },
  {
   "cell_type": "code",
   "execution_count": null,
   "id": "1c8c3f70-d4fd-4a1b-82a6-81ef04edd79e",
   "metadata": {},
   "outputs": [],
   "source": [
    "#137) Create a tuple of random numbers\n",
    "\n",
    "import random \n",
    "\n",
    "randomList = [] \n",
    "\n",
    "for i in range(1,10):\n",
    "    n = random.randint(1,30)\n",
    "    randomList.append(n)\n",
    "    \n",
    "print(tuple(randomList))"
   ]
  },
  {
   "cell_type": "code",
   "execution_count": null,
   "id": "d6aea468-49d6-423c-8ee6-3459f837aba0",
   "metadata": {},
   "outputs": [],
   "source": []
  },
  {
   "cell_type": "code",
   "execution_count": null,
   "id": "3d639831-b2b6-4664-95f9-003e6d27de01",
   "metadata": {},
   "outputs": [],
   "source": [
    "#138) Check if a tuple is sorted\n",
    "\n",
    "tple = (6, 7, 2, 4, 9, 1) \n",
    "\n",
    "sorted_tple = tuple(sorted(tple)) \n",
    "\n",
    "if tple == sorted_tple:\n",
    "    print(\"Entered tuple is sorted\")\n",
    "else:\n",
    "    print(\"Entered tuple is not sorted\")"
   ]
  },
  {
   "cell_type": "code",
   "execution_count": null,
   "id": "ebcdd2d3-aad5-425c-a34c-d17b39d869d1",
   "metadata": {},
   "outputs": [],
   "source": []
  },
  {
   "cell_type": "code",
   "execution_count": null,
   "id": "01c346b6-dcd2-4749-b6e9-78e34e548d5c",
   "metadata": {},
   "outputs": [],
   "source": [
    "#139) Rotate a tuple to the left by `n` positions\n",
    "\n",
    "my_tuple = (6, 4, 3, 9, 6, 2, 5, 1) \n",
    "\n",
    "n = 4 \n",
    "\n",
    "rotate_tuple = my_tuple[n:] + my_tuple[:n] \n",
    "\n",
    "print(rotate_tuple)"
   ]
  },
  {
   "cell_type": "code",
   "execution_count": null,
   "id": "744b7c39-fcaf-4755-a479-ca9042814322",
   "metadata": {},
   "outputs": [],
   "source": []
  },
  {
   "cell_type": "code",
   "execution_count": null,
   "id": "2d6a3dd5-28c4-48b3-b2a1-eaa0204d5caa",
   "metadata": {},
   "outputs": [],
   "source": [
    "#140) Rotate a tuple to the right by `n` positions\n",
    "\n",
    "my_tuple = (6, 4, 3, 9, 6, 2, 5, 1) \n",
    "\n",
    "n = 3 \n",
    "\n",
    "rotate_tuple = my_tuple[-n:] + my_tuple[:-n] \n",
    "\n",
    "print(rotate_tuple)"
   ]
  },
  {
   "cell_type": "code",
   "execution_count": null,
   "id": "ce24ccf0-0712-4c4f-855c-3241be88703b",
   "metadata": {},
   "outputs": [],
   "source": []
  },
  {
   "cell_type": "code",
   "execution_count": null,
   "id": "b86fd628-69de-4cd5-b207-761b66e43107",
   "metadata": {},
   "outputs": [],
   "source": [
    "#141) Create a tuple of the first 5 Fibonacci numbers\n",
    "# Initialize the first two Fibonacci numbers\n",
    "my_tuple = (0, 1) \n",
    "\n",
    "# Calculate the next 3 Fibonacci numbers and add them to the tuple\n",
    "for i in range(3):\n",
    "    next_fibonacci = my_tuple[-2] + my_tuple[-1]\n",
    "    my_tuple += (next_fibonacci,) \n",
    "    \n",
    "print(my_tuple)"
   ]
  },
  {
   "cell_type": "code",
   "execution_count": null,
   "id": "c2818cad-a759-41c8-aebd-6a1dbed4e029",
   "metadata": {},
   "outputs": [],
   "source": []
  },
  {
   "cell_type": "code",
   "execution_count": null,
   "id": "9f3f366a-cfad-4b67-9c38-be2bde4ec163",
   "metadata": {},
   "outputs": [],
   "source": [
    "#142) Create a tuple from user input.\n",
    "my_tuple = input(\"Enter elements separated by comma:\") \n",
    "\n",
    "tuple_list = my_tuple.split(',') \n",
    "\n",
    "tuple_tuple = tuple(tuple_list) \n",
    "\n",
    "print(tuple_tuple)"
   ]
  },
  {
   "cell_type": "code",
   "execution_count": null,
   "id": "466445a5-a49e-48c9-b54c-b2c62ac74213",
   "metadata": {},
   "outputs": [],
   "source": []
  },
  {
   "cell_type": "code",
   "execution_count": null,
   "id": "95396ed1-604a-4c04-9ef0-53fbe5700ef9",
   "metadata": {},
   "outputs": [],
   "source": [
    "#143) Swap two elements in a tuple\n",
    "my_tuple = (6, 4, 3, 7, 9, 2, 5)\n",
    "ls_tuple = list(my_tuple)\n",
    "index1 = 2\n",
    "index2 = 6 \n",
    "\n",
    "temp = ls_tuple[2]\n",
    "ls_tuple[2] = ls_tuple[6]\n",
    "ls_tuple[6] = temp \n",
    "\n",
    "print (tuple(ls_tuple))"
   ]
  },
  {
   "cell_type": "code",
   "execution_count": null,
   "id": "4f2695fb-fcfd-4f6b-8e5d-8eff0fc9b25d",
   "metadata": {},
   "outputs": [],
   "source": []
  },
  {
   "cell_type": "code",
   "execution_count": null,
   "id": "ff40b38d-5646-498b-bc7e-96e69e63b3fb",
   "metadata": {},
   "outputs": [],
   "source": [
    "#144) Reverse the elements of a tuple\n",
    "my_tuple = (6, 4, 3, 7, 9, 2, 5) \n",
    "\n",
    "rev_tuple = my_tuple [::-1] \n",
    "\n",
    "print (rev_tuple)"
   ]
  },
  {
   "cell_type": "code",
   "execution_count": null,
   "id": "5204592a-d34b-4bcb-afd6-982175de9ef0",
   "metadata": {},
   "outputs": [],
   "source": []
  },
  {
   "cell_type": "code",
   "execution_count": null,
   "id": "c799950d-1c0a-4c5f-923f-4cd62b35901a",
   "metadata": {},
   "outputs": [],
   "source": [
    "#145) Create a tuple of the first `n` powers of 2\n",
    "my_tuple = (6, 4, 3, 7, 9, 2, 5)\n",
    "ls_tuple = list(my_tuple)\n",
    "new_list = []\n",
    "for i in ls_tuple:\n",
    "    list_tuple = i**2\n",
    "    new_list.append(list_tuple) \n",
    "    \n",
    "print (new_list) "
   ]
  },
  {
   "cell_type": "code",
   "execution_count": null,
   "id": "8a1b3f9f-6499-4ab9-b1eb-b0fbeb4a4e83",
   "metadata": {},
   "outputs": [],
   "source": []
  },
  {
   "cell_type": "code",
   "execution_count": null,
   "id": "b66e14b0-09a5-4a7f-9f71-f9650542e37f",
   "metadata": {},
   "outputs": [],
   "source": [
    "#146) Find the longest string in a tuple of strings\n",
    "my_tuple = (\"sunil\", \"Yeligeti\", \"pwskills2\") \n",
    "\n",
    "long_str = ()\n",
    "for i in my_tuple:\n",
    "    if len(i) > len(long_str):\n",
    "        long_str = i\n",
    "print(long_str)"
   ]
  },
  {
   "cell_type": "code",
   "execution_count": null,
   "id": "68d3accb-45f1-4f6a-8fb0-0d664861f10a",
   "metadata": {},
   "outputs": [],
   "source": []
  },
  {
   "cell_type": "code",
   "execution_count": null,
   "id": "88f7a5eb-b395-45f1-9c51-01f52f41a2c3",
   "metadata": {},
   "outputs": [],
   "source": [
    "#147) Find the shortest string in a tuple of strings\n",
    "my_tuple = (\"sunil\", \"Yeligeti\", \"pwskills2\", \"hi\") \n",
    "\n",
    "short_str = my_tuple [0]\n",
    "for i in my_tuple:\n",
    "    if len(i) < len(short_str):\n",
    "        short_str = i\n",
    "print(short_str)"
   ]
  },
  {
   "cell_type": "code",
   "execution_count": null,
   "id": "8a944d75-bb43-4d6d-838b-b35f584b8ede",
   "metadata": {},
   "outputs": [],
   "source": []
  },
  {
   "cell_type": "code",
   "execution_count": null,
   "id": "7a0d7fc4-28c9-45d5-867c-2ffe588dae26",
   "metadata": {},
   "outputs": [],
   "source": [
    "#148) Create a tuple of the first `n` triangular numbers\n",
    "n = int(input(\"Enter a number: \"))\n",
    "triangular_numbers = []\n",
    "count = 0\n",
    "for i in range(1, n + 1):\n",
    "    count += i\n",
    "    triangular_numbers.append(count) \n",
    "    \n",
    "triangular_tuple = tuple(triangular_numbers)\n",
    "print(triangular_tuple)"
   ]
  },
  {
   "cell_type": "code",
   "execution_count": null,
   "id": "4f6f1af5-1c23-4d89-ae6e-334f9431bbdf",
   "metadata": {},
   "outputs": [],
   "source": []
  },
  {
   "cell_type": "code",
   "execution_count": null,
   "id": "c4804316-a423-405b-b523-289b5b5b71dc",
   "metadata": {},
   "outputs": [],
   "source": [
    "#149) Check if a tuple contains another tuple as a subsequence\n",
    "main_tuple = (1, 2, 3, 4, 5, 6)\n",
    "sub_tuple = (3, 4, 5)\n",
    "\n",
    "is_subsequence = all(item in main_tuple for item in sub_tuple)\n",
    "\n",
    "if is_subsequence:\n",
    "    print(\"The sub_tuple is a subsequence of main_tuple.\")\n",
    "else:\n",
    "    print(\"The sub_tuple is not a subsequence of main_tuple.\")"
   ]
  },
  {
   "cell_type": "code",
   "execution_count": null,
   "id": "6e9d3aad-2725-466b-b601-9e8082a030fb",
   "metadata": {},
   "outputs": [],
   "source": []
  },
  {
   "cell_type": "code",
   "execution_count": null,
   "id": "12e4361a-cc3c-4b6f-a92d-5824802340d7",
   "metadata": {},
   "outputs": [],
   "source": [
    "#150) Create a tuple of alternating 1s and 0s of length `n`.\n",
    "n = 5 \n",
    "alternating_tuple = tuple(1 if i % 2 == 0 else 0 for i in range(n))\n",
    "print(alternating_tuple)"
   ]
  },
  {
   "cell_type": "code",
   "execution_count": null,
   "id": "1537c50c-20d6-4d72-a9a5-7484216917f1",
   "metadata": {},
   "outputs": [],
   "source": []
  },
  {
   "cell_type": "code",
   "execution_count": null,
   "id": "ef91dfa0-8277-4eb0-9bb5-fdbe6dac68b8",
   "metadata": {},
   "outputs": [],
   "source": [
    "#151) Create a set with integers from 1 to 5.\n",
    "set_int = set(range(1,6)) \n",
    "\n",
    "print(set_int)"
   ]
  },
  {
   "cell_type": "code",
   "execution_count": null,
   "id": "9c086afa-43c0-4a6f-b1d4-c1c4698a8b0e",
   "metadata": {},
   "outputs": [],
   "source": []
  },
  {
   "cell_type": "code",
   "execution_count": null,
   "id": "615e21d3-d351-44c7-8f2e-98a0e7fc8bb1",
   "metadata": {},
   "outputs": [],
   "source": [
    "#152) Add an element to a set.\n",
    "set_item = {3,6,9,2,1,5,7,4}\n",
    "set_item.add(8)\n",
    "print(set_item"
   ]
  },
  {
   "cell_type": "code",
   "execution_count": null,
   "id": "59498f76-8d7b-47aa-86e7-a8bd57d9335b",
   "metadata": {},
   "outputs": [],
   "source": []
  },
  {
   "cell_type": "code",
   "execution_count": null,
   "id": "1ba69d4e-3f28-4e80-b4de-3e63837bcb2d",
   "metadata": {},
   "outputs": [],
   "source": [
    "#153) Remove an element from a set.\n",
    "set_item = {3,6,9,2,1,5,7,4}\n",
    "set_item.remove(4)\n",
    "print(set_item)"
   ]
  },
  {
   "cell_type": "code",
   "execution_count": null,
   "id": "28e990bf-24f7-4ba4-9386-6984c38abed9",
   "metadata": {},
   "outputs": [],
   "source": []
  },
  {
   "cell_type": "code",
   "execution_count": null,
   "id": "4cd6c1db-0254-45c8-8d5c-6ee4d20b90b3",
   "metadata": {},
   "outputs": [],
   "source": [
    "#154) Check if an element exists in a set\n",
    "set_item = {3,6,9,2,1,5,7,4}\n",
    "req_item = 3\n",
    "if req_item in set_item:\n",
    "    print(\"Entered number exists in set\")\n",
    "else:\n",
    "    print(\"Entered number not exists in set\")"
   ]
  },
  {
   "cell_type": "code",
   "execution_count": null,
   "id": "0b5ccfb3-d424-45af-9d3f-153cf2614e98",
   "metadata": {},
   "outputs": [],
   "source": []
  },
  {
   "cell_type": "code",
   "execution_count": null,
   "id": "2d116149-92fe-483a-a192-49f2d77aef26",
   "metadata": {},
   "outputs": [],
   "source": [
    "#155) Find the length of a set without using the `len()` function\n",
    "set_int = {1,2,3,4,5,6,8,9}\n",
    "counter = 0\n",
    "for i in set_int:\n",
    "    counter = counter + 1\n",
    "print(counter)"
   ]
  },
  {
   "cell_type": "code",
   "execution_count": null,
   "id": "7f3e24c3-88b6-43d6-8276-c64fa32277bd",
   "metadata": {},
   "outputs": [],
   "source": []
  },
  {
   "cell_type": "code",
   "execution_count": null,
   "id": "d9e71127-279e-4804-a258-4dc70c000c7b",
   "metadata": {},
   "outputs": [],
   "source": [
    "#156) Clear all elements from a set\n",
    "set_int = {1,2,3,4,3,25,6,7,4}\n",
    "set_int.clear()\n",
    "print(set_int)"
   ]
  },
  {
   "cell_type": "code",
   "execution_count": null,
   "id": "d6c4f37c-5a39-4e74-9991-2d35fef30931",
   "metadata": {},
   "outputs": [],
   "source": []
  },
  {
   "cell_type": "code",
   "execution_count": null,
   "id": "e3a8571e-3449-4a43-a15c-3d9676e45834",
   "metadata": {},
   "outputs": [],
   "source": [
    "#157) Create a set of even numbers from 1 to 10.\n",
    "set_item = {1,2,3,4,5,6,7,8, 9,10}\n",
    "set_even = set()\n",
    "for i in set_item:\n",
    "    if i%2 == 0:\n",
    "        set_even.add(i)\n",
    "print(set_even)"
   ]
  },
  {
   "cell_type": "code",
   "execution_count": null,
   "id": "6e1666a7-c6e8-4959-9b9a-ad1d173b2475",
   "metadata": {},
   "outputs": [],
   "source": []
  },
  {
   "cell_type": "code",
   "execution_count": null,
   "id": "580ec777-2c6c-4574-a30b-5680f8e7f5bc",
   "metadata": {},
   "outputs": [],
   "source": [
    "#158) Create a set of odd numbers from 1 to 10\n",
    "set_item = {1,2,3,4,5,6,7,8, 9,10}\n",
    "set_even = set()\n",
    "for i in set_item:\n",
    "    if i%2 != 0:\n",
    "        set_even.add(i)\n",
    "print(set_even)"
   ]
  },
  {
   "cell_type": "code",
   "execution_count": null,
   "id": "11c4b494-dc9e-4591-9176-27f086eea08a",
   "metadata": {},
   "outputs": [],
   "source": []
  },
  {
   "cell_type": "code",
   "execution_count": null,
   "id": "6c9e1ba1-3213-459b-a263-8a29230d0737",
   "metadata": {},
   "outputs": [],
   "source": [
    "#159) Find the union of two sets\n",
    "set1 = {1, 2, 3, 7, 4}\n",
    "set2 = {3, 4, 5, 6} \n",
    "\n",
    "union_set = set1.union(set2) \n",
    "\n",
    "print(\"Union of set2 and set2:\", union_set)"
   ]
  },
  {
   "cell_type": "code",
   "execution_count": null,
   "id": "14f9c749-4f72-4d44-851f-2d561d24cdbe",
   "metadata": {},
   "outputs": [],
   "source": []
  },
  {
   "cell_type": "code",
   "execution_count": null,
   "id": "da275967-4a6e-4b6f-b9b1-87d5fcb5a0bb",
   "metadata": {},
   "outputs": [],
   "source": [
    "#160) Find the intersection of two sets\n",
    "set1 = {1, 2, 3, 7, 4}\n",
    "set2 = {3, 4, 5, 6,2}\n",
    "intersection_set = set()\n",
    "for i in set1:\n",
    "    for j in set2:\n",
    "        if i == j:\n",
    "            intersection_set.add(j)\n",
    "print(intersection_set)"
   ]
  },
  {
   "cell_type": "code",
   "execution_count": null,
   "id": "219a9e72-3c45-49e0-800d-8ce44f1c850e",
   "metadata": {},
   "outputs": [],
   "source": []
  },
  {
   "cell_type": "code",
   "execution_count": null,
   "id": "2adedff0-0dbb-48b9-ba77-c91d19a7477e",
   "metadata": {},
   "outputs": [],
   "source": [
    "#161) Find the difference between two sets\n",
    "set1 = {1,2,3,4,6}\n",
    "set2 = {4,5,6,3,7,9}\n",
    "\n",
    "difference_set = set1.difference(set2)\n",
    "print(difference_set)"
   ]
  },
  {
   "cell_type": "code",
   "execution_count": null,
   "id": "bacc8b3d-d8c1-437f-b46e-19609911eba6",
   "metadata": {},
   "outputs": [],
   "source": []
  },
  {
   "cell_type": "code",
   "execution_count": null,
   "id": "1e4df31c-f6b5-42c3-8c01-0505284ddee0",
   "metadata": {},
   "outputs": [],
   "source": [
    "#162) Check if a set is a subset of another set\n",
    "set1 = {1,2,3,4,6}\n",
    "set2 = {4,5,6,3,7,9}\n",
    "\n",
    "subset_set = set1.issubset(set2)\n",
    "print(subset_set)"
   ]
  },
  {
   "cell_type": "code",
   "execution_count": null,
   "id": "9b7ea1b6-8bde-4f17-baa5-dae37b132283",
   "metadata": {},
   "outputs": [],
   "source": []
  },
  {
   "cell_type": "code",
   "execution_count": null,
   "id": "02195c3b-b1ef-4a6b-afdd-8981ae3d5d23",
   "metadata": {},
   "outputs": [],
   "source": [
    "#163) Check if a set is a superset of another set\n",
    "set1 = {1,2,3,4,6}\n",
    "set2 = {4,5,6,3,7,9}\n",
    "\n",
    "superset_set = set1.issuperset(set2)\n",
    "print(superset_set)"
   ]
  },
  {
   "cell_type": "code",
   "execution_count": null,
   "id": "9074bfc6-7d82-4172-99b4-059fec16b94f",
   "metadata": {},
   "outputs": [],
   "source": []
  },
  {
   "cell_type": "code",
   "execution_count": null,
   "id": "9f4a32b0-46c2-450f-9701-8954592b9abc",
   "metadata": {},
   "outputs": [],
   "source": [
    "#164) Create a set from a list\n",
    "list1 = [3,4,5,6,2,9]\n",
    "\n",
    "list_set = set(list1)\n",
    "\n",
    "print(list_set)"
   ]
  },
  {
   "cell_type": "code",
   "execution_count": null,
   "id": "ee3bcdeb-5dec-46e6-8987-7c9ac2fb0e9d",
   "metadata": {},
   "outputs": [],
   "source": []
  },
  {
   "cell_type": "code",
   "execution_count": null,
   "id": "279bf78f-ecc2-4edf-9f2e-7232e717c18a",
   "metadata": {},
   "outputs": [],
   "source": [
    "#165) Convert a set to a list.\n",
    "set1 = {2, 3, 4, 5, 6, 9}\n",
    "\n",
    "set_list = list(set1)\n",
    "\n",
    "print(set_list)"
   ]
  },
  {
   "cell_type": "code",
   "execution_count": null,
   "id": "b0a7b822-20ce-439e-84b2-29cb5666a4ea",
   "metadata": {},
   "outputs": [],
   "source": []
  },
  {
   "cell_type": "code",
   "execution_count": null,
   "id": "2071fd71-d27b-4b33-b3d0-a7299a384cf8",
   "metadata": {},
   "outputs": [],
   "source": [
    "#166) Remove a random element from a set\n",
    "import random\n",
    "\n",
    "my_set = {1, 2, 3, 4, 5}\n",
    "\n",
    "my_list = list(my_set)\n",
    "\n",
    "if my_list:\n",
    "    removed_element = random.choice(my_list)\n",
    "    my_set.remove(removed_element)\n",
    "    print(\"Updated set:\", my_set)\n",
    "    print(\"Removed element:\", removed_element)\n",
    "else:\n",
    "    print(\"The set is empty.\")"
   ]
  },
  {
   "cell_type": "code",
   "execution_count": null,
   "id": "667fa472-822b-4788-926c-ade0b6613221",
   "metadata": {},
   "outputs": [],
   "source": []
  },
  {
   "cell_type": "code",
   "execution_count": null,
   "id": "77b4377e-366b-47a0-88fe-0cde1a06b7c6",
   "metadata": {},
   "outputs": [],
   "source": [
    "#167) Pop an element from a set\n",
    "set1 = {2, 3, 4, 5, 6, 9}\n",
    "\n",
    "set_list = set1.pop()\n",
    "\n",
    "print(set_list)"
   ]
  },
  {
   "cell_type": "code",
   "execution_count": null,
   "id": "c7c5b144-a58b-4e57-9581-411e0ab939af",
   "metadata": {},
   "outputs": [],
   "source": []
  },
  {
   "cell_type": "code",
   "execution_count": null,
   "id": "e15a4499-a999-45aa-9d70-747362d78f02",
   "metadata": {},
   "outputs": [],
   "source": [
    "#168) Check if two sets have no elements in common\n",
    "# Example sets\n",
    "set1 = {1, 2, 3, 4}\n",
    "set2 = {5, 6, 3, 4, 7}\n",
    "\n",
    "# Check if the sets have no elements in common\n",
    "have_no_common_elements = set1.isdisjoint(set2)\n",
    "\n",
    "# Print the result\n",
    "if have_no_common_elements:\n",
    "    print(\"The sets have no elements in common.\")\n",
    "else:\n",
    "    print(\"The sets have at least one common element.\")"
   ]
  },
  {
   "cell_type": "code",
   "execution_count": null,
   "id": "2036f071-ee89-44ef-bec7-ea181d47f6dc",
   "metadata": {},
   "outputs": [],
   "source": []
  },
  {
   "cell_type": "code",
   "execution_count": null,
   "id": "925f1462-932d-476f-a72d-7329a8b88ee2",
   "metadata": {},
   "outputs": [],
   "source": [
    "#169) Find the symmetric difference between two sets\n",
    "set1 = {1, 2, 3, 4, 5}\n",
    "set2 = {3, 4, 5, 6, 7}\n",
    "\n",
    "result_set = set1.symmetric_difference(set2)\n",
    "\n",
    "print(result_set)"
   ]
  },
  {
   "cell_type": "code",
   "execution_count": null,
   "id": "26f82c23-66e9-41cc-bb6a-e62029a0100c",
   "metadata": {},
   "outputs": [],
   "source": []
  },
  {
   "cell_type": "code",
   "execution_count": null,
   "id": "d8095e8f-0cb6-4983-b6c8-b1a3864995b3",
   "metadata": {},
   "outputs": [],
   "source": [
    "#170) Update a set with elements from another set\n",
    "set1 = {1, 2, 3, 4, 5}\n",
    "set2 = {3, 4, 5, 6, 7}\n",
    "\n",
    "set1.update(set2)\n",
    "\n",
    "print(set1)"
   ]
  },
  {
   "cell_type": "code",
   "execution_count": null,
   "id": "26dac011-5a39-4f88-81d6-5ebf8ed63f73",
   "metadata": {},
   "outputs": [],
   "source": []
  },
  {
   "cell_type": "code",
   "execution_count": null,
   "id": "f10b9dcf-da28-41eb-9d71-eae84c0193a1",
   "metadata": {},
   "outputs": [],
   "source": [
    "#171) Create a set of the first 5 prime numbers\n",
    "set1 = {2, 3, 5, 7, 11}\n",
    "\n",
    "print(\"Set of first 5 numbers is:\", set1)"
   ]
  },
  {
   "cell_type": "code",
   "execution_count": null,
   "id": "44d3052a-d8eb-4a40-bf92-923eb5c34af0",
   "metadata": {},
   "outputs": [],
   "source": []
  },
  {
   "cell_type": "code",
   "execution_count": null,
   "id": "c82e8eac-0272-4200-b4f3-5517029c62ff",
   "metadata": {},
   "outputs": [],
   "source": [
    "#172) Check if two sets are identical\n",
    "set1 = {1, 2, 3, 4, 5, 7, 6}\n",
    "set2 = {3, 4, 5, 6, 7, 2, 1}\n",
    "\n",
    "if set1 == set2:\n",
    "    print(\"Two sets are identical.\")\n",
    "else:\n",
    "    print(\"Two sets are not identical.\")"
   ]
  },
  {
   "cell_type": "code",
   "execution_count": null,
   "id": "45c31c77-946d-45fe-a765-4749be098c9c",
   "metadata": {},
   "outputs": [],
   "source": []
  },
  {
   "cell_type": "code",
   "execution_count": null,
   "id": "b635d2d4-a101-43da-9183-f57b62fc6367",
   "metadata": {},
   "outputs": [],
   "source": [
    "#173) Create a frozen set\n",
    "set1 = {1, 2, 3, 4, 5, 7, 6}\n",
    "\n",
    "frozen_set = frozenset(set1)\n",
    "\n",
    "print(frozen_set)"
   ]
  },
  {
   "cell_type": "code",
   "execution_count": null,
   "id": "5120d33b-c9ca-46af-837b-0723608bb968",
   "metadata": {},
   "outputs": [],
   "source": []
  },
  {
   "cell_type": "code",
   "execution_count": null,
   "id": "a40742c1-6ac6-43c5-8bf8-edec8bc06b46",
   "metadata": {},
   "outputs": [],
   "source": [
    "#174) Check if a set is disjoint with another set\n",
    "set1 = {1, 2, 3, 4}\n",
    "set2 = {5, 6, 7}\n",
    "\n",
    "if set1.isdisjoint(set2):\n",
    "    print(\"The sets are disjoint.\")\n",
    "else:\n",
    "    print(\"The sets have at least one common element.\")"
   ]
  },
  {
   "cell_type": "code",
   "execution_count": null,
   "id": "876097c3-a700-4e52-a942-780e125c3489",
   "metadata": {},
   "outputs": [],
   "source": []
  },
  {
   "cell_type": "code",
   "execution_count": null,
   "id": "8bc4c15a-6323-4569-90d7-27dbb9d611ef",
   "metadata": {},
   "outputs": [],
   "source": [
    "#175) Create a set of squares of numbers from 1 to 5\n",
    "set1 = {1, 2, 3, 4, 5}\n",
    "result_list = []\n",
    "for i in set1:\n",
    "    result_list.append(i**2)\n",
    "    result_set = set(result_list)\n",
    "print(result_set)"
   ]
  },
  {
   "cell_type": "code",
   "execution_count": null,
   "id": "62b745d8-9e61-46d2-ac1b-874334ea5548",
   "metadata": {},
   "outputs": [],
   "source": []
  },
  {
   "cell_type": "code",
   "execution_count": null,
   "id": "6097a470-b781-4540-aa8a-578000f79767",
   "metadata": {},
   "outputs": [],
   "source": [
    "#176) Filter out all even numbers from a set\n",
    "set1 = {1, 2, 3, 4, 5}\n",
    "result_list = []\n",
    "for i in set1:\n",
    "    if i % 2 == 0:\n",
    "        result_list.append(i)\n",
    "print(set(result_list))"
   ]
  },
  {
   "cell_type": "code",
   "execution_count": null,
   "id": "6e0920e8-0d94-4a8d-993b-65cb3aa0854d",
   "metadata": {},
   "outputs": [],
   "source": []
  },
  {
   "cell_type": "code",
   "execution_count": null,
   "id": "e7176392-d2d5-41dc-88f3-f64b44167225",
   "metadata": {},
   "outputs": [],
   "source": [
    "#177) Multiply all elements in a set by 2\n",
    "set1 = {1, 2, 3, 4, 5}\n",
    "result_list = []\n",
    "for i in set1:\n",
    "    result_list.append(i*2)\n",
    "    result_set = set(result_list)\n",
    "print(result_set)"
   ]
  },
  {
   "cell_type": "code",
   "execution_count": null,
   "id": "6c335caf-9def-4b6f-9c0b-7b0941d08681",
   "metadata": {},
   "outputs": [],
   "source": []
  },
  {
   "cell_type": "code",
   "execution_count": null,
   "id": "0ecff4db-ebf9-4c89-bd0b-261229fdcf26",
   "metadata": {},
   "outputs": [],
   "source": [
    "#178) Create a set of random numbers\n",
    "import random\n",
    "\n",
    "random_set = set(random.sample(range(1, 11), 5))\n",
    "\n",
    "print(\"Set of random numbers:\", random_set)"
   ]
  },
  {
   "cell_type": "code",
   "execution_count": null,
   "id": "6c7c0b70-377a-47b5-8ee8-643903a05079",
   "metadata": {},
   "outputs": [],
   "source": []
  },
  {
   "cell_type": "code",
   "execution_count": null,
   "id": "102fad14-3de5-40ce-9b24-0b1753179673",
   "metadata": {},
   "outputs": [],
   "source": [
    "#179) Check if a set is empty\n",
    "set1 = {}\n",
    "\n",
    "if set1:\n",
    "    print(\"The set is not empty.\")\n",
    "else:\n",
    "    print(\"The set is empty.\")"
   ]
  },
  {
   "cell_type": "code",
   "execution_count": null,
   "id": "2d7bf6a0-165d-4750-b24c-4bf33ba97c8a",
   "metadata": {},
   "outputs": [],
   "source": []
  },
  {
   "cell_type": "code",
   "execution_count": null,
   "id": "92e46bb0-f8db-4781-a989-0c846a5ab957",
   "metadata": {},
   "outputs": [],
   "source": [
    "#180) Create a nested set (hint: use frozenset)\n",
    "set1 = {1, 2, 3, 4, 5}\n",
    "set2 = {3, 4, 5, 6, 7}\n",
    "\n",
    "frozen_set1 = frozenset(set1)\n",
    "frozen_set2 = frozenset(set2)\n",
    "\n",
    "nested_set = {frozen_set1, frozen_set2}\n",
    "\n",
    "print(\"Nested set:\", nested_set)"
   ]
  },
  {
   "cell_type": "code",
   "execution_count": null,
   "id": "1d313d6d-a710-4723-baef-110e61a8170d",
   "metadata": {},
   "outputs": [],
   "source": []
  },
  {
   "cell_type": "code",
   "execution_count": null,
   "id": "31737a42-1a64-41d4-8301-77941e5cdfce",
   "metadata": {},
   "outputs": [],
   "source": [
    "#181) Remove an element from a set using the discard method\n",
    "set1 = {1, 2, 3, 4, 5}\n",
    "\n",
    "print(\"Elements in set before an element discarded:\", set1)\n",
    "\n",
    "set1.discard(2)\n",
    "print(\"Elements in set after an element discarded:\", set1)"
   ]
  },
  {
   "cell_type": "code",
   "execution_count": null,
   "id": "add8d448-571d-4f8a-883d-7e3ea3b528f7",
   "metadata": {},
   "outputs": [],
   "source": []
  },
  {
   "cell_type": "code",
   "execution_count": null,
   "id": "b60a7e59-f706-4744-8e30-56ded2ca0fde",
   "metadata": {},
   "outputs": [],
   "source": [
    "#182) Compare two sets\n",
    "set1 = {1, 2, 3}\n",
    "set2 = {3, 2, 1}\n",
    "\n",
    "if set1 == set2:\n",
    "    print(\"The sets are equal.\")\n",
    "else:\n",
    "    print(\"The sets are not equal.\")"
   ]
  },
  {
   "cell_type": "code",
   "execution_count": null,
   "id": "c895e9d9-2b83-4038-ae9e-ed13c77569bd",
   "metadata": {},
   "outputs": [],
   "source": []
  },
  {
   "cell_type": "code",
   "execution_count": null,
   "id": "d12ee046-894d-4d8f-837d-5c85cf5d396d",
   "metadata": {},
   "outputs": [],
   "source": [
    "#183) Create a set from a string\n",
    "my_string = input(\"Enter any string:\")\n",
    "\n",
    "my_set = set(my_string)\n",
    "\n",
    "print(\"Converted set from string is\", my_set)"
   ]
  },
  {
   "cell_type": "code",
   "execution_count": null,
   "id": "d527e779-fb40-4149-be69-9c5cc3e449d5",
   "metadata": {},
   "outputs": [],
   "source": []
  },
  {
   "cell_type": "code",
   "execution_count": null,
   "id": "c31dd6e0-d763-481d-9e91-3b96f4a70dba",
   "metadata": {},
   "outputs": [],
   "source": [
    "#184) Convert a set of strings to a set of integers\n",
    "set_of_strings = {\"1\", \"2\", \"3\", \"4\", \"5\"}\n",
    "set_of_list = []\n",
    "for i in set_of_strings:\n",
    "    set_of_list.append(int(i))\n",
    "print(set(set_of_list))"
   ]
  },
  {
   "cell_type": "code",
   "execution_count": null,
   "id": "cb4f4791-24a2-48db-baa1-3d08f4ca5687",
   "metadata": {},
   "outputs": [],
   "source": []
  },
  {
   "cell_type": "code",
   "execution_count": null,
   "id": "5e3fabdf-cfe4-487f-8286-c905dae72307",
   "metadata": {},
   "outputs": [],
   "source": [
    "#185) Convert a set of integers to a set of strings\n",
    "set_of_strings = {1, 2, 3, 4, 5}\n",
    "set_of_list = []\n",
    "for i in set_of_strings:\n",
    "    set_of_list.append(str(i))\n",
    "print(set(set_of_list))"
   ]
  },
  {
   "cell_type": "code",
   "execution_count": null,
   "id": "2c09051a-cd99-4e60-bbe2-c4020226dc44",
   "metadata": {},
   "outputs": [],
   "source": []
  },
  {
   "cell_type": "code",
   "execution_count": null,
   "id": "40aac94f-3a92-4774-ad04-55ae0e4c551c",
   "metadata": {},
   "outputs": [],
   "source": [
    "#186) Create a set from a tuple\n",
    "my_tuple = (4, 6, 7, 3, 2)\n",
    "\n",
    "my_set = set(my_tuple)\n",
    "\n",
    "print(my_set)"
   ]
  },
  {
   "cell_type": "code",
   "execution_count": null,
   "id": "5df31f41-5f41-4dc3-80b7-bd49c519a1b5",
   "metadata": {},
   "outputs": [],
   "source": []
  },
  {
   "cell_type": "code",
   "execution_count": null,
   "id": "661d03a4-8ccb-4d2a-9f84-1fa260a8cfa4",
   "metadata": {},
   "outputs": [],
   "source": [
    "#187) Convert a set to a tuple\n",
    "my_set = {2, 3, 4, 6, 7}\n",
    "\n",
    "my_tuple = tuple(my_set)\n",
    "\n",
    "print(my_tuple)"
   ]
  },
  {
   "cell_type": "code",
   "execution_count": null,
   "id": "27071ef6-029f-495b-b35c-19ce769ca18a",
   "metadata": {},
   "outputs": [],
   "source": []
  },
  {
   "cell_type": "code",
   "execution_count": null,
   "id": "36e54c3e-2361-4e09-8f3d-fbbf4e9bcd7a",
   "metadata": {},
   "outputs": [],
   "source": [
    "#188) Find the maximum value in a set\n",
    "my_set = {2, 3, 4, 6, 7}\n",
    "\n",
    "result_element = max(my_set)\n",
    "\n",
    "print(result_element)"
   ]
  },
  {
   "cell_type": "code",
   "execution_count": null,
   "id": "d2d796d5-c955-44c3-ab81-282a9b7860ea",
   "metadata": {},
   "outputs": [],
   "source": []
  },
  {
   "cell_type": "code",
   "execution_count": null,
   "id": "9faf8a76-e5f5-4f4b-91c8-3c9e97adff11",
   "metadata": {},
   "outputs": [],
   "source": [
    "#189) Find the minimum value in a set\n",
    "my_set = {2, 3, 4, 6, 7}\n",
    "\n",
    "result_element = min(my_set)\n",
    "\n",
    "print(result_element)"
   ]
  },
  {
   "cell_type": "code",
   "execution_count": null,
   "id": "522f2c91-5edd-4eb8-b81b-025f6b47fc66",
   "metadata": {},
   "outputs": [],
   "source": []
  },
  {
   "cell_type": "code",
   "execution_count": null,
   "id": "bfb2f475-0b66-44df-8362-27ed55a764d3",
   "metadata": {},
   "outputs": [],
   "source": [
    "#190) Create a set from user input\n",
    "user_set = set()\n",
    "print(\"Enter elements for the set and type done to finish:\")\n",
    "while True:\n",
    "    user_input = input(\">\")\n",
    "    if user_input.lower() == 'done':\n",
    "        break\n",
    "    user_set.add(user_input)\n",
    "print(\"Set from a user input:\",user_set)"
   ]
  },
  {
   "cell_type": "code",
   "execution_count": null,
   "id": "f7e9c765-6711-43d4-ae17-f234142f6703",
   "metadata": {},
   "outputs": [],
   "source": []
  },
  {
   "cell_type": "code",
   "execution_count": null,
   "id": "0be277b3-75bf-46e7-b8ea-e9506bcfc101",
   "metadata": {},
   "outputs": [],
   "source": [
    "#191) Check if the intersection of two sets is empty\n",
    "set1 = {2,3,4,6}\n",
    "set2 = {5,7,9,8,3}\n",
    "\n",
    "result = set1.intersection(set2)\n",
    "if result:\n",
    "    print(\"Intersection of two sets is not empty\")\n",
    "else:\n",
    "    print(\"Intersection of two sets is empty\")"
   ]
  },
  {
   "cell_type": "code",
   "execution_count": null,
   "id": "3b4861c7-7e4b-4eac-b0cd-032354e1e28c",
   "metadata": {},
   "outputs": [],
   "source": []
  },
  {
   "cell_type": "code",
   "execution_count": null,
   "id": "932b9ed9-a4ec-4ab3-a00c-f2030e95c774",
   "metadata": {},
   "outputs": [],
   "source": [
    "#192) Create a set of the first 5 Fibonacci numbers\n",
    "fibonacci_set = set()\n",
    "\n",
    "a, b = 0, 1\n",
    "for i in range(7):\n",
    "    fibonacci_set.add(a)\n",
    "    a, b = b, a + b\n",
    "\n",
    "print(\"Set of the first 5 Fibonacci numbers:\", fibonacci_set)"
   ]
  },
  {
   "cell_type": "code",
   "execution_count": null,
   "id": "d02ef2bf-ce28-431a-9b7c-6e76c1e18865",
   "metadata": {},
   "outputs": [],
   "source": []
  },
  {
   "cell_type": "code",
   "execution_count": null,
   "id": "c04b4b31-5524-41d5-a73a-23f9d2da0cce",
   "metadata": {},
   "outputs": [],
   "source": [
    "#193) Remove duplicates from a list using sets\n",
    "my_list = [1, 2, 2, 3, 4, 4, 5]\n",
    "\n",
    "result_list = list(set(my_list))\n",
    "\n",
    "print(\"Original List:\", my_list)\n",
    "print(\"List with Duplicates Removed:\", result_list)"
   ]
  },
  {
   "cell_type": "code",
   "execution_count": null,
   "id": "ddf922bf-dec3-4acf-90fb-7f5a1d591b2d",
   "metadata": {},
   "outputs": [],
   "source": []
  },
  {
   "cell_type": "code",
   "execution_count": null,
   "id": "e0d5a956-e803-43ba-b6f1-fc05d6569c37",
   "metadata": {},
   "outputs": [],
   "source": [
    "#194) Check if two sets have the same elements, regardless of their count\n",
    "set1 = {1, 2, 3, 4, 5}\n",
    "set2 = {5, 4, 3, 2, 1}\n",
    "\n",
    "if set1 == set2:\n",
    "    print(\"Two sets have common elements\")\n",
    "else:\n",
    "    print(\"Two sets dont have any common elements\")"
   ]
  },
  {
   "cell_type": "code",
   "execution_count": null,
   "id": "a493ebb7-6c43-4975-9423-4a992a594fcf",
   "metadata": {},
   "outputs": [],
   "source": []
  },
  {
   "cell_type": "code",
   "execution_count": null,
   "id": "8e463775-3482-4217-aa3e-ed6619926df4",
   "metadata": {},
   "outputs": [],
   "source": [
    "#195) Create a set of the first `n` powers of 2\n",
    "n = int(input(\"Enter any number:\"))\n",
    "power_of_2_set = []\n",
    "for i in range(n):\n",
    "    power_of_2_set.append(i ** 2)\n",
    "    \n",
    "list_to_set = set(power_of_2_set)\n",
    "print(f\"Set of the first {n} powers of 2:\", list_to_set)"
   ]
  },
  {
   "cell_type": "code",
   "execution_count": null,
   "id": "a64a9e7c-119e-47f1-a4c4-899e154b46c7",
   "metadata": {},
   "outputs": [],
   "source": []
  },
  {
   "cell_type": "code",
   "execution_count": null,
   "id": "f969a25d-fd8f-453e-ae35-17d122c013bb",
   "metadata": {},
   "outputs": [],
   "source": [
    "#196) Find the common elements between a set and a list\n",
    "my_set = {2,3,4,6,9}\n",
    "\n",
    "my_list = [7,9,5,1,3]\n",
    "\n",
    "result = set(my_list).intersection(my_set)\n",
    "if result:\n",
    "    print(\"Common elements between a set and a list:\", result)\n",
    "else:\n",
    "    print(\"No common elements between a set and a list.\")"
   ]
  },
  {
   "cell_type": "code",
   "execution_count": null,
   "id": "733e7830-a49f-4d5f-ac03-0048e5199c5e",
   "metadata": {},
   "outputs": [],
   "source": []
  },
  {
   "cell_type": "code",
   "execution_count": null,
   "id": "5e0692d9-374a-4723-a621-2b91e676abb7",
   "metadata": {},
   "outputs": [],
   "source": [
    "#197) Create a set of the first `n` triangular numbers\n",
    "n = int(input(\"Enter a number: \"))\n",
    "triangular_numbers = []\n",
    "count = 0\n",
    "for i in range(1, n + 1):\n",
    "    count += i\n",
    "    triangular_numbers.append(count) \n",
    "    \n",
    "triangular_set = set(triangular_numbers)\n",
    "print(triangular_set)"
   ]
  },
  {
   "cell_type": "code",
   "execution_count": null,
   "id": "1e744b65-8225-415b-8726-11f50ff6252f",
   "metadata": {},
   "outputs": [],
   "source": []
  },
  {
   "cell_type": "code",
   "execution_count": null,
   "id": "df06af1e-1bdd-41ed-8d0c-041364bd1380",
   "metadata": {},
   "outputs": [],
   "source": [
    "#198) Check if a set contains another set as a subset\n",
    "set1 = {1, 2, 3, 4, 5}\n",
    "set2 = {2, 4}\n",
    "\n",
    "is_subset = set2.issubset(set1)\n",
    "\n",
    "print(\"Is set2 a subset of set1?\", is_subset)"
   ]
  },
  {
   "cell_type": "code",
   "execution_count": null,
   "id": "c83f2bda-4326-4678-95be-0d4a3d65c3c5",
   "metadata": {},
   "outputs": [],
   "source": []
  },
  {
   "cell_type": "code",
   "execution_count": null,
   "id": "cef896f5-d9dc-4474-896d-3139942f25c5",
   "metadata": {},
   "outputs": [],
   "source": [
    "#199) Create a set of alternating 1s and 0s of length `n`\n",
    "n = 5\n",
    "empty_add = set()\n",
    "for i in range(n):\n",
    "    if i%2 == 0:\n",
    "        empty_add.add(1)\n",
    "    else:\n",
    "        empty_add.add(0)\n",
    "print(empty_add)"
   ]
  },
  {
   "cell_type": "code",
   "execution_count": null,
   "id": "a732fb3e-cebc-4441-a374-528a2571f029",
   "metadata": {},
   "outputs": [],
   "source": []
  },
  {
   "cell_type": "code",
   "execution_count": null,
   "id": "a7aef197-9dbe-48eb-8206-4f9be895bc39",
   "metadata": {},
   "outputs": [],
   "source": [
    "#200) Merge multiple sets into one\n",
    "set1 = {1, 3, 4, 6}\n",
    "set2 = {4, 6, 9, 12, 55}\n",
    "set3 = {13, 14, 16, 23}\n",
    "\n",
    "result = set1.union(set2, set3)\n",
    "\n",
    "print(\"Result of multiple merged sets:\", result)"
   ]
  }
 ],
 "metadata": {
  "kernelspec": {
   "display_name": "Python 3 (ipykernel)",
   "language": "python",
   "name": "python3"
  },
  "language_info": {
   "codemirror_mode": {
    "name": "ipython",
    "version": 3
   },
   "file_extension": ".py",
   "mimetype": "text/x-python",
   "name": "python",
   "nbconvert_exporter": "python",
   "pygments_lexer": "ipython3",
   "version": "3.10.8"
  }
 },
 "nbformat": 4,
 "nbformat_minor": 5
}
